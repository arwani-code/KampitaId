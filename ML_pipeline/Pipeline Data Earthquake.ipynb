{
 "cells": [
  {
   "cell_type": "markdown",
   "id": "91fe49f7",
   "metadata": {},
   "source": [
    "# Import Library and Tools"
   ]
  },
  {
   "cell_type": "code",
   "execution_count": 1,
   "id": "755061f0",
   "metadata": {},
   "outputs": [
    {
     "data": {
      "application/javascript": [
       "if (!(\"Notification\" in window)) {\n",
       "    alert(\"This browser does not support desktop notifications, so the %%notify magic will not work.\");\n",
       "} else if (Notification.permission !== 'granted' && Notification.permission !== 'denied') {\n",
       "    Notification.requestPermission(function (permission) {\n",
       "        if(!('permission' in Notification)) {\n",
       "            Notification.permission = permission;\n",
       "        }\n",
       "    })\n",
       "}\n"
      ],
      "text/plain": [
       "<IPython.core.display.Javascript object>"
      ]
     },
     "metadata": {},
     "output_type": "display_data"
    }
   ],
   "source": [
    "### Import Library\n",
    "import os\n",
    "import obspy\n",
    "\n",
    "import pandas as pd\n",
    "import numpy as np\n",
    "import matplotlib.pyplot as plt\n",
    "\n",
    "import tensorflow as tf\n",
    "import keras\n",
    "import keras.backend as K\n",
    "\n",
    "### Tools\n",
    "%load_ext jupyternotify"
   ]
  },
  {
   "cell_type": "markdown",
   "id": "c5a1f147",
   "metadata": {},
   "source": [
    "# Load Data"
   ]
  },
  {
   "cell_type": "markdown",
   "id": "82d6cbb6",
   "metadata": {},
   "source": [
    "## Load SACA and BH File"
   ]
  },
  {
   "cell_type": "markdown",
   "id": "5b8d8e22",
   "metadata": {},
   "source": [
    "### Load SACA"
   ]
  },
  {
   "cell_type": "code",
   "execution_count": 6,
   "id": "2eac7793",
   "metadata": {},
   "outputs": [],
   "source": [
    "file_path = './Data/2022-04-25-mb45-java-indonesia'"
   ]
  },
  {
   "cell_type": "code",
   "execution_count": 25,
   "id": "a80f6aae",
   "metadata": {},
   "outputs": [
    {
     "name": "stdout",
     "output_type": "stream",
     "text": [
      "total SACA file: 183\n",
      "\n",
      "9 sample of SACA file:\n",
      "CU.BBGH.00.BH1.M.2022.115.171900.SACA\n",
      "CU.BBGH.00.BH2.M.2022.115.171900.SACA\n",
      "CU.BBGH.00.BHZ.M.2022.115.171900.SACA\n",
      "HK.HKPS..BHE.M.2022.115.170511.SACA\n",
      "HK.HKPS..BHN.M.2022.115.170511.SACA\n",
      "HK.HKPS..BHZ.M.2022.115.170511.SACA\n",
      "HK.HKPS.00.BHE.M.2022.115.170511.SACA\n",
      "HK.HKPS.00.BHN.M.2022.115.170511.SACA\n",
      "HK.HKPS.00.BHZ.M.2022.115.170511.SACA\n"
     ]
    }
   ],
   "source": [
    "list_file = os.listdir(file_path)\n",
    "list_file_saca = [filename for filename in list_file if os.path.isfile(os.path.join(file_path, filename))]\n",
    "\n",
    "total_file_sample = 9\n",
    "print(f'total SACA file: {len(list_file_saca)}\\n')\n",
    "temp = '\\n'.join(list_file_saca[:total_file_sample])\n",
    "print(f'{total_file_sample} sample of SACA file:\\n{temp}')"
   ]
  },
  {
   "cell_type": "markdown",
   "id": "18f5e13d",
   "metadata": {},
   "source": [
    "### Load BH"
   ]
  },
  {
   "cell_type": "code",
   "execution_count": null,
   "id": "6f573389",
   "metadata": {},
   "outputs": [],
   "source": [
    "file_path_BH = os.path.join(file_path, 'IRISDMC')"
   ]
  },
  {
   "cell_type": "code",
   "execution_count": 26,
   "id": "ae06206a",
   "metadata": {},
   "outputs": [
    {
     "name": "stdout",
     "output_type": "stream",
     "text": [
      "total SACA file: 201\n",
      "\n",
      "9 sample of SACA file:\n",
      "SACPZ.CU.BBGH.00.BH1\n",
      "SACPZ.CU.BBGH.00.BH2\n",
      "SACPZ.CU.BBGH.00.BHZ\n",
      "SACPZ.HK.HKPS.--.BHE\n",
      "SACPZ.HK.HKPS.--.BHN\n",
      "SACPZ.HK.HKPS.--.BHZ\n",
      "SACPZ.HK.HKPS.00.BHE\n",
      "SACPZ.HK.HKPS.00.BHN\n",
      "SACPZ.HK.HKPS.00.BHZ\n"
     ]
    }
   ],
   "source": [
    "list_file_BH = os.listdir(file_path_BH)\n",
    "\n",
    "total_file_sample = 9\n",
    "print(f'total SACA file: {len(list_file_BH)}\\n')\n",
    "temp = '\\n'.join(list_file_BH[:total_file_sample])\n",
    "print(f'{total_file_sample} sample of SACA file:\\n{temp}')"
   ]
  },
  {
   "cell_type": "code",
   "execution_count": 28,
   "id": "e10de4c5",
   "metadata": {},
   "outputs": [
    {
     "ename": "ValueError",
     "evalue": "setting an array element with a sequence. The requested array has an inhomogeneous shape after 1 dimensions. The detected shape was (6713,) + inhomogeneous part.",
     "output_type": "error",
     "traceback": [
      "\u001b[1;31m---------------------------------------------------------------------------\u001b[0m",
      "\u001b[1;31mValueError\u001b[0m                                Traceback (most recent call last)",
      "Input \u001b[1;32mIn [28]\u001b[0m, in \u001b[0;36m<cell line: 1>\u001b[1;34m()\u001b[0m\n\u001b[1;32m----> 1\u001b[0m \u001b[43mobspy\u001b[49m\u001b[38;5;241;43m.\u001b[39;49m\u001b[43mread\u001b[49m\u001b[43m(\u001b[49m\u001b[43mos\u001b[49m\u001b[38;5;241;43m.\u001b[39;49m\u001b[43mpath\u001b[49m\u001b[38;5;241;43m.\u001b[39;49m\u001b[43mjoin\u001b[49m\u001b[43m(\u001b[49m\u001b[43mfile_path\u001b[49m\u001b[43m,\u001b[49m\u001b[43m \u001b[49m\u001b[43mlist_file_saca\u001b[49m\u001b[43m[\u001b[49m\u001b[38;5;241;43m0\u001b[39;49m\u001b[43m]\u001b[49m\u001b[43m)\u001b[49m\u001b[43m)\u001b[49m\n",
      "File \u001b[1;32m~\\.conda\\envs\\Bangkit\\lib\\site-packages\\decorator.py:232\u001b[0m, in \u001b[0;36mdecorate.<locals>.fun\u001b[1;34m(*args, **kw)\u001b[0m\n\u001b[0;32m    230\u001b[0m \u001b[38;5;28;01mif\u001b[39;00m \u001b[38;5;129;01mnot\u001b[39;00m kwsyntax:\n\u001b[0;32m    231\u001b[0m     args, kw \u001b[38;5;241m=\u001b[39m fix(args, kw, sig)\n\u001b[1;32m--> 232\u001b[0m \u001b[38;5;28;01mreturn\u001b[39;00m caller(func, \u001b[38;5;241m*\u001b[39m(extras \u001b[38;5;241m+\u001b[39m args), \u001b[38;5;241m*\u001b[39m\u001b[38;5;241m*\u001b[39mkw)\n",
      "File \u001b[1;32m~\\.conda\\envs\\Bangkit\\lib\\site-packages\\obspy\\core\\util\\decorator.py:291\u001b[0m, in \u001b[0;36mmap_example_filename.<locals>._map_example_filename\u001b[1;34m(func, *args, **kwargs)\u001b[0m\n\u001b[0;32m    289\u001b[0m                 \u001b[38;5;28;01mexcept\u001b[39;00m \u001b[38;5;167;01mIOError\u001b[39;00m:\n\u001b[0;32m    290\u001b[0m                     \u001b[38;5;28;01mpass\u001b[39;00m\n\u001b[1;32m--> 291\u001b[0m \u001b[38;5;28;01mreturn\u001b[39;00m func(\u001b[38;5;241m*\u001b[39margs, \u001b[38;5;241m*\u001b[39m\u001b[38;5;241m*\u001b[39mkwargs)\n",
      "File \u001b[1;32m~\\.conda\\envs\\Bangkit\\lib\\site-packages\\obspy\\core\\stream.py:208\u001b[0m, in \u001b[0;36mread\u001b[1;34m(pathname_or_url, format, headonly, starttime, endtime, nearest_sample, dtype, apply_calib, check_compression, **kwargs)\u001b[0m\n\u001b[0;32m    206\u001b[0m     st \u001b[38;5;241m=\u001b[39m _create_example_stream(headonly\u001b[38;5;241m=\u001b[39mheadonly)\n\u001b[0;32m    207\u001b[0m \u001b[38;5;28;01melse\u001b[39;00m:\n\u001b[1;32m--> 208\u001b[0m     st \u001b[38;5;241m=\u001b[39m _generic_reader(pathname_or_url, _read, \u001b[38;5;241m*\u001b[39m\u001b[38;5;241m*\u001b[39mkwargs)\n\u001b[0;32m    210\u001b[0m \u001b[38;5;28;01mif\u001b[39;00m \u001b[38;5;28mlen\u001b[39m(st) \u001b[38;5;241m==\u001b[39m \u001b[38;5;241m0\u001b[39m:\n\u001b[0;32m    211\u001b[0m     \u001b[38;5;66;03m# try to give more specific information why the stream is empty\u001b[39;00m\n\u001b[0;32m    212\u001b[0m     \u001b[38;5;28;01mif\u001b[39;00m has_magic(pathname_or_url) \u001b[38;5;129;01mand\u001b[39;00m \u001b[38;5;129;01mnot\u001b[39;00m glob(pathname_or_url):\n",
      "File \u001b[1;32m~\\.conda\\envs\\Bangkit\\lib\\site-packages\\obspy\\core\\util\\base.py:657\u001b[0m, in \u001b[0;36m_generic_reader\u001b[1;34m(pathname_or_url, callback_func, **kwargs)\u001b[0m\n\u001b[0;32m    654\u001b[0m     \u001b[38;5;28;01melif\u001b[39;00m \u001b[38;5;129;01mnot\u001b[39;00m glob\u001b[38;5;241m.\u001b[39mhas_magic(pathname) \u001b[38;5;129;01mand\u001b[39;00m \u001b[38;5;129;01mnot\u001b[39;00m Path(pathname)\u001b[38;5;241m.\u001b[39mis_file():\n\u001b[0;32m    655\u001b[0m         \u001b[38;5;28;01mraise\u001b[39;00m \u001b[38;5;167;01mIOError\u001b[39;00m(\u001b[38;5;241m2\u001b[39m, \u001b[38;5;124m\"\u001b[39m\u001b[38;5;124mNo such file or directory\u001b[39m\u001b[38;5;124m\"\u001b[39m, pathname)\n\u001b[1;32m--> 657\u001b[0m generic \u001b[38;5;241m=\u001b[39m callback_func(pathnames[\u001b[38;5;241m0\u001b[39m], \u001b[38;5;241m*\u001b[39m\u001b[38;5;241m*\u001b[39mkwargs)\n\u001b[0;32m    658\u001b[0m \u001b[38;5;28;01mif\u001b[39;00m \u001b[38;5;28mlen\u001b[39m(pathnames) \u001b[38;5;241m>\u001b[39m \u001b[38;5;241m1\u001b[39m:\n\u001b[0;32m    659\u001b[0m     \u001b[38;5;28;01mfor\u001b[39;00m filename \u001b[38;5;129;01min\u001b[39;00m pathnames[\u001b[38;5;241m1\u001b[39m:]:\n",
      "File \u001b[1;32m~\\.conda\\envs\\Bangkit\\lib\\site-packages\\decorator.py:232\u001b[0m, in \u001b[0;36mdecorate.<locals>.fun\u001b[1;34m(*args, **kw)\u001b[0m\n\u001b[0;32m    230\u001b[0m \u001b[38;5;28;01mif\u001b[39;00m \u001b[38;5;129;01mnot\u001b[39;00m kwsyntax:\n\u001b[0;32m    231\u001b[0m     args, kw \u001b[38;5;241m=\u001b[39m fix(args, kw, sig)\n\u001b[1;32m--> 232\u001b[0m \u001b[38;5;28;01mreturn\u001b[39;00m caller(func, \u001b[38;5;241m*\u001b[39m(extras \u001b[38;5;241m+\u001b[39m args), \u001b[38;5;241m*\u001b[39m\u001b[38;5;241m*\u001b[39mkw)\n",
      "File \u001b[1;32m~\\.conda\\envs\\Bangkit\\lib\\site-packages\\obspy\\core\\util\\decorator.py:202\u001b[0m, in \u001b[0;36muncompress_file\u001b[1;34m(func, filename, *args, **kwargs)\u001b[0m\n\u001b[0;32m    199\u001b[0m                 result \u001b[38;5;241m+\u001b[39m\u001b[38;5;241m=\u001b[39m stream\n\u001b[0;32m    200\u001b[0m \u001b[38;5;28;01melse\u001b[39;00m:\n\u001b[0;32m    201\u001b[0m     \u001b[38;5;66;03m# no compressions\u001b[39;00m\n\u001b[1;32m--> 202\u001b[0m     result \u001b[38;5;241m=\u001b[39m func(filename, \u001b[38;5;241m*\u001b[39margs, \u001b[38;5;241m*\u001b[39m\u001b[38;5;241m*\u001b[39mkwargs)\n\u001b[0;32m    203\u001b[0m \u001b[38;5;28;01mreturn\u001b[39;00m result\n",
      "File \u001b[1;32m~\\.conda\\envs\\Bangkit\\lib\\site-packages\\obspy\\core\\stream.py:249\u001b[0m, in \u001b[0;36m_read\u001b[1;34m(filename, format, headonly, **kwargs)\u001b[0m\n\u001b[0;32m    244\u001b[0m \u001b[38;5;129m@uncompress_file\u001b[39m\n\u001b[0;32m    245\u001b[0m \u001b[38;5;28;01mdef\u001b[39;00m \u001b[38;5;21m_read\u001b[39m(filename, \u001b[38;5;28mformat\u001b[39m\u001b[38;5;241m=\u001b[39m\u001b[38;5;28;01mNone\u001b[39;00m, headonly\u001b[38;5;241m=\u001b[39m\u001b[38;5;28;01mFalse\u001b[39;00m, \u001b[38;5;241m*\u001b[39m\u001b[38;5;241m*\u001b[39mkwargs):\n\u001b[0;32m    246\u001b[0m     \u001b[38;5;124;03m\"\"\"\u001b[39;00m\n\u001b[0;32m    247\u001b[0m \u001b[38;5;124;03m    Read a single file into a ObsPy Stream object.\u001b[39;00m\n\u001b[0;32m    248\u001b[0m \u001b[38;5;124;03m    \"\"\"\u001b[39;00m\n\u001b[1;32m--> 249\u001b[0m     stream, \u001b[38;5;28mformat\u001b[39m \u001b[38;5;241m=\u001b[39m _read_from_plugin(\u001b[38;5;124m'\u001b[39m\u001b[38;5;124mwaveform\u001b[39m\u001b[38;5;124m'\u001b[39m, filename, \u001b[38;5;28mformat\u001b[39m\u001b[38;5;241m=\u001b[39m\u001b[38;5;28mformat\u001b[39m,\n\u001b[0;32m    250\u001b[0m                                        headonly\u001b[38;5;241m=\u001b[39mheadonly, \u001b[38;5;241m*\u001b[39m\u001b[38;5;241m*\u001b[39mkwargs)\n\u001b[0;32m    251\u001b[0m     \u001b[38;5;66;03m# set _format identifier for each element\u001b[39;00m\n\u001b[0;32m    252\u001b[0m     \u001b[38;5;28;01mfor\u001b[39;00m trace \u001b[38;5;129;01min\u001b[39;00m stream:\n",
      "File \u001b[1;32m~\\.conda\\envs\\Bangkit\\lib\\site-packages\\obspy\\core\\util\\base.py:422\u001b[0m, in \u001b[0;36m_read_from_plugin\u001b[1;34m(plugin_type, filename, format, **kwargs)\u001b[0m\n\u001b[0;32m    420\u001b[0m     \u001b[38;5;28;01mraise\u001b[39;00m \u001b[38;5;167;01mTypeError\u001b[39;00m(msg \u001b[38;5;241m%\u001b[39m (format_ep\u001b[38;5;241m.\u001b[39mname, \u001b[38;5;124m'\u001b[39m\u001b[38;5;124m, \u001b[39m\u001b[38;5;124m'\u001b[39m\u001b[38;5;241m.\u001b[39mjoin(eps)))\n\u001b[0;32m    421\u001b[0m \u001b[38;5;66;03m# read\u001b[39;00m\n\u001b[1;32m--> 422\u001b[0m list_obj \u001b[38;5;241m=\u001b[39m read_format(filename, \u001b[38;5;241m*\u001b[39m\u001b[38;5;241m*\u001b[39mkwargs)\n\u001b[0;32m    423\u001b[0m \u001b[38;5;28;01mreturn\u001b[39;00m list_obj, format_ep\u001b[38;5;241m.\u001b[39mname\n",
      "File \u001b[1;32m~\\.conda\\envs\\Bangkit\\lib\\site-packages\\obspy\\io\\sac\\core.py:202\u001b[0m, in \u001b[0;36m_read_sac_xy\u001b[1;34m(filename, headonly, debug_headers, **kwargs)\u001b[0m\n\u001b[0;32m    200\u001b[0m \u001b[38;5;28;01melse\u001b[39;00m:\n\u001b[0;32m    201\u001b[0m     \u001b[38;5;28;01mwith\u001b[39;00m \u001b[38;5;28mopen\u001b[39m(filename, \u001b[38;5;124m\"\u001b[39m\u001b[38;5;124mrb\u001b[39m\u001b[38;5;124m\"\u001b[39m) \u001b[38;5;28;01mas\u001b[39;00m fh:\n\u001b[1;32m--> 202\u001b[0m         \u001b[38;5;28;01mreturn\u001b[39;00m _internal_read_sac_xy(buf\u001b[38;5;241m=\u001b[39mfh, headonly\u001b[38;5;241m=\u001b[39mheadonly,\n\u001b[0;32m    203\u001b[0m                                      debug_headers\u001b[38;5;241m=\u001b[39mdebug_headers, \u001b[38;5;241m*\u001b[39m\u001b[38;5;241m*\u001b[39mkwargs)\n",
      "File \u001b[1;32m~\\.conda\\envs\\Bangkit\\lib\\site-packages\\obspy\\io\\sac\\core.py:235\u001b[0m, in \u001b[0;36m_internal_read_sac_xy\u001b[1;34m(buf, headonly, debug_headers, **kwargs)\u001b[0m\n\u001b[0;32m    206\u001b[0m \u001b[38;5;28;01mdef\u001b[39;00m \u001b[38;5;21m_internal_read_sac_xy\u001b[39m(buf, headonly\u001b[38;5;241m=\u001b[39m\u001b[38;5;28;01mFalse\u001b[39;00m, debug_headers\u001b[38;5;241m=\u001b[39m\u001b[38;5;28;01mFalse\u001b[39;00m,\n\u001b[0;32m    207\u001b[0m                           \u001b[38;5;241m*\u001b[39m\u001b[38;5;241m*\u001b[39mkwargs):  \u001b[38;5;66;03m# @UnusedVariable\u001b[39;00m\n\u001b[0;32m    208\u001b[0m     \u001b[38;5;124;03m\"\"\"\u001b[39;00m\n\u001b[0;32m    209\u001b[0m \u001b[38;5;124;03m    Reads an alphanumeric SAC file and returns an ObsPy Stream object.\u001b[39;00m\n\u001b[0;32m    210\u001b[0m \n\u001b[1;32m   (...)\u001b[0m\n\u001b[0;32m    233\u001b[0m \u001b[38;5;124;03m    >>> st = read(\"/path/to/testxy.sac\")\u001b[39;00m\n\u001b[0;32m    234\u001b[0m \u001b[38;5;124;03m    \"\"\"\u001b[39;00m\n\u001b[1;32m--> 235\u001b[0m     sac \u001b[38;5;241m=\u001b[39m \u001b[43mSACTrace\u001b[49m\u001b[38;5;241;43m.\u001b[39;49m\u001b[43mread\u001b[49m\u001b[43m(\u001b[49m\u001b[43mbuf\u001b[49m\u001b[43m,\u001b[49m\u001b[43m \u001b[49m\u001b[43mheadonly\u001b[49m\u001b[38;5;241;43m=\u001b[39;49m\u001b[43mheadonly\u001b[49m\u001b[43m,\u001b[49m\u001b[43m \u001b[49m\u001b[43mascii\u001b[49m\u001b[38;5;241;43m=\u001b[39;49m\u001b[38;5;28;43;01mTrue\u001b[39;49;00m\u001b[43m)\u001b[49m\n\u001b[0;32m    236\u001b[0m     \u001b[38;5;66;03m# assign all header entries to a new dictionary compatible with ObsPy\u001b[39;00m\n\u001b[0;32m    237\u001b[0m     tr \u001b[38;5;241m=\u001b[39m sac\u001b[38;5;241m.\u001b[39mto_obspy_trace(debug_headers\u001b[38;5;241m=\u001b[39mdebug_headers)\n",
      "File \u001b[1;32m~\\.conda\\envs\\Bangkit\\lib\\site-packages\\obspy\\io\\sac\\sactrace.py:1084\u001b[0m, in \u001b[0;36mSACTrace.read\u001b[1;34m(cls, source, headonly, ascii, byteorder, checksize, debug_strings, encoding)\u001b[0m\n\u001b[0;32m   1030\u001b[0m \u001b[38;5;124;03m\"\"\"\u001b[39;00m\n\u001b[0;32m   1031\u001b[0m \u001b[38;5;124;03mConstruct an instance from a binary or ASCII file on disk.\u001b[39;00m\n\u001b[0;32m   1032\u001b[0m \n\u001b[1;32m   (...)\u001b[0m\n\u001b[0;32m   1081\u001b[0m \n\u001b[0;32m   1082\u001b[0m \u001b[38;5;124;03m\"\"\"\u001b[39;00m\n\u001b[0;32m   1083\u001b[0m \u001b[38;5;28;01mif\u001b[39;00m ascii:\n\u001b[1;32m-> 1084\u001b[0m     hf, hi, hs, data \u001b[38;5;241m=\u001b[39m \u001b[43m_io\u001b[49m\u001b[38;5;241;43m.\u001b[39;49m\u001b[43mread_sac_ascii\u001b[49m\u001b[43m(\u001b[49m\u001b[43msource\u001b[49m\u001b[43m,\u001b[49m\u001b[43m \u001b[49m\u001b[43mheadonly\u001b[49m\u001b[38;5;241;43m=\u001b[39;49m\u001b[43mheadonly\u001b[49m\u001b[43m)\u001b[49m\n\u001b[0;32m   1085\u001b[0m \u001b[38;5;28;01melse\u001b[39;00m:\n\u001b[0;32m   1086\u001b[0m     hf, hi, hs, data \u001b[38;5;241m=\u001b[39m _io\u001b[38;5;241m.\u001b[39mread_sac(source, headonly\u001b[38;5;241m=\u001b[39mheadonly,\n\u001b[0;32m   1087\u001b[0m                                     byteorder\u001b[38;5;241m=\u001b[39mbyteorder,\n\u001b[0;32m   1088\u001b[0m                                     checksize\u001b[38;5;241m=\u001b[39mchecksize)\n",
      "File \u001b[1;32m~\\.conda\\envs\\Bangkit\\lib\\site-packages\\obspy\\io\\sac\\arrayio.py:256\u001b[0m, in \u001b[0;36mread_sac_ascii\u001b[1;34m(source, headonly)\u001b[0m\n\u001b[0;32m    254\u001b[0m     data \u001b[38;5;241m=\u001b[39m \u001b[38;5;28;01mNone\u001b[39;00m\n\u001b[0;32m    255\u001b[0m \u001b[38;5;28;01melse\u001b[39;00m:\n\u001b[1;32m--> 256\u001b[0m     data \u001b[38;5;241m=\u001b[39m \u001b[43mnp\u001b[49m\u001b[38;5;241;43m.\u001b[39;49m\u001b[43marray\u001b[49m\u001b[43m(\u001b[49m\u001b[43m[\u001b[49m\u001b[43mi\u001b[49m\u001b[38;5;241;43m.\u001b[39;49m\u001b[43msplit\u001b[49m\u001b[43m(\u001b[49m\u001b[43m)\u001b[49m\u001b[43m \u001b[49m\u001b[38;5;28;43;01mfor\u001b[39;49;00m\u001b[43m \u001b[49m\u001b[43mi\u001b[49m\u001b[43m \u001b[49m\u001b[38;5;129;43;01min\u001b[39;49;00m\u001b[43m \u001b[49m\u001b[43mcontents\u001b[49m\u001b[43m[\u001b[49m\u001b[38;5;241;43m30\u001b[39;49m\u001b[43m:\u001b[49m\u001b[43m]\u001b[49m\u001b[43m]\u001b[49m\u001b[43m,\u001b[49m\n\u001b[0;32m    257\u001b[0m \u001b[43m                    \u001b[49m\u001b[43mdtype\u001b[49m\u001b[38;5;241;43m=\u001b[39;49m\u001b[38;5;124;43m'\u001b[39;49m\u001b[38;5;124;43m<f4\u001b[39;49m\u001b[38;5;124;43m'\u001b[39;49m\u001b[43m)\u001b[49m\u001b[38;5;241m.\u001b[39mravel()\n\u001b[0;32m    259\u001b[0m     npts \u001b[38;5;241m=\u001b[39m hi[HD\u001b[38;5;241m.\u001b[39mINTHDRS\u001b[38;5;241m.\u001b[39mindex(\u001b[38;5;124m'\u001b[39m\u001b[38;5;124mnpts\u001b[39m\u001b[38;5;124m'\u001b[39m)]\n\u001b[0;32m    260\u001b[0m     \u001b[38;5;28;01mif\u001b[39;00m \u001b[38;5;28mlen\u001b[39m(data) \u001b[38;5;241m!=\u001b[39m npts:\n",
      "\u001b[1;31mValueError\u001b[0m: setting an array element with a sequence. The requested array has an inhomogeneous shape after 1 dimensions. The detected shape was (6713,) + inhomogeneous part."
     ]
    }
   ],
   "source": [
    "obspy.read(os.path.join(file_path, list_file_saca[0]))"
   ]
  },
  {
   "cell_type": "code",
   "execution_count": null,
   "id": "d6ceeb30",
   "metadata": {},
   "outputs": [],
   "source": []
  }
 ],
 "metadata": {
  "kernelspec": {
   "display_name": "Python 3 (ipykernel)",
   "language": "python",
   "name": "python3"
  },
  "language_info": {
   "codemirror_mode": {
    "name": "ipython",
    "version": 3
   },
   "file_extension": ".py",
   "mimetype": "text/x-python",
   "name": "python",
   "nbconvert_exporter": "python",
   "pygments_lexer": "ipython3",
   "version": "3.9.12"
  }
 },
 "nbformat": 4,
 "nbformat_minor": 5
}
