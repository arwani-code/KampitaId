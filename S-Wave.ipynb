{
 "cells": [
  {
   "cell_type": "code",
   "execution_count": 4,
   "id": "9d49a86a",
   "metadata": {},
   "outputs": [],
   "source": [
    "# !pip install --user tables\n",
    "# !pip install imblearn\n",
    "# !pip3 install --force-reinstall tensorflow==2.8.0 --user \n",
    "# !pip3 install --upgrade tensorflow-gpu --user\n",
    "# !pip3 install tensorflow_datasets --user\n",
    "# !pip3 install numba\n",
    "# !pip3 install PyWavelets\n",
    "# !pip3 install imageio\n",
    "# !pip3 install scikit-image\n",
    "# !pip3 install psutil\n",
    "\n",
    "import os, h5py, re, time, pywt, imageio, pickle, psutil, sys, json\n",
    "import pandas as pd\n",
    "import numpy as np\n",
    "import matplotlib.pyplot as plt\n",
    "import seaborn as sns\n",
    "\n",
    "from imblearn.combine import SMOTETomek, SMOTEENN\n",
    "from tqdm.auto import tqdm\n",
    "tqdm.pandas()\n",
    "\n",
    "import tensorflow as tf\n",
    "import tensorflow_datasets as tfds\n",
    "import tensorflow_addons as tfa\n",
    "# from joblib import Parallel, delayed\n",
    "# import numba as nb\n",
    "import tensorflow.keras.backend as K\n",
    "from tensorflow.keras.utils import Sequence\n",
    "import numpy as np   \n",
    "\n",
    "from skimage.restoration import (denoise_wavelet, estimate_sigma)\n",
    "from scipy.spatial.distance import cosine\n",
    "from sklearn.model_selection import train_test_split\n",
    "from sklearn.metrics import precision_recall_fscore_support, balanced_accuracy_score, f1_score\n",
    "from sklearn.metrics import confusion_matrix, ConfusionMatrixDisplay, classification_report\n",
    "from sklearn.preprocessing import MinMaxScaler\n",
    "\n",
    "import keras_tuner as kt\n",
    "from tensorflow import keras\n",
    "from IPython.display import clear_output\n",
    "import typing\n",
    "\n",
    "from tensorflow_addons.utils.types import AcceptableDTypes\n",
    "from typeguard import typechecked\n",
    "\n",
    "gpu_devices = tf.config.experimental.list_physical_devices('GPU')\n",
    "tf.config.experimental.set_memory_growth(gpu_devices[0], True)"
   ]
  },
  {
   "cell_type": "code",
   "execution_count": 5,
   "id": "5b1125f4",
   "metadata": {},
   "outputs": [
    {
     "name": "stderr",
     "output_type": "stream",
     "text": [
      "C:\\Users\\Zhafran\\.conda\\envs\\ExVodka\\lib\\site-packages\\IPython\\core\\interactiveshell.py:3444: DtypeWarning: Columns (7,11,13,14,15,18,19,20,21,22,24,25,26,30,31) have mixed types.Specify dtype option on import or set low_memory=False.\n",
      "  exec(code_obj, self.user_global_ns, self.user_ns)\n"
     ]
    },
    {
     "data": {
      "text/html": [
       "<div>\n",
       "<style scoped>\n",
       "    .dataframe tbody tr th:only-of-type {\n",
       "        vertical-align: middle;\n",
       "    }\n",
       "\n",
       "    .dataframe tbody tr th {\n",
       "        vertical-align: top;\n",
       "    }\n",
       "\n",
       "    .dataframe thead th {\n",
       "        text-align: right;\n",
       "    }\n",
       "</style>\n",
       "<table border=\"1\" class=\"dataframe\">\n",
       "  <thead>\n",
       "    <tr style=\"text-align: right;\">\n",
       "      <th></th>\n",
       "      <th>network_code</th>\n",
       "      <th>receiver_code</th>\n",
       "      <th>receiver_type</th>\n",
       "      <th>receiver_latitude</th>\n",
       "      <th>receiver_longitude</th>\n",
       "      <th>receiver_elevation_m</th>\n",
       "      <th>p_arrival_sample</th>\n",
       "      <th>p_status</th>\n",
       "      <th>p_weight</th>\n",
       "      <th>p_travel_sec</th>\n",
       "      <th>...</th>\n",
       "      <th>source_magnitude_author</th>\n",
       "      <th>source_mechanism_strike_dip_rake</th>\n",
       "      <th>source_distance_deg</th>\n",
       "      <th>source_distance_km</th>\n",
       "      <th>back_azimuth_deg</th>\n",
       "      <th>snr_db</th>\n",
       "      <th>coda_end_sample</th>\n",
       "      <th>trace_start_time</th>\n",
       "      <th>trace_category</th>\n",
       "      <th>trace_name</th>\n",
       "    </tr>\n",
       "  </thead>\n",
       "  <tbody>\n",
       "    <tr>\n",
       "      <th>0</th>\n",
       "      <td>TA</td>\n",
       "      <td>109C</td>\n",
       "      <td>HH</td>\n",
       "      <td>32.8889</td>\n",
       "      <td>-117.1051</td>\n",
       "      <td>150.0</td>\n",
       "      <td>NaN</td>\n",
       "      <td>NaN</td>\n",
       "      <td>NaN</td>\n",
       "      <td>NaN</td>\n",
       "      <td>...</td>\n",
       "      <td>NaN</td>\n",
       "      <td>NaN</td>\n",
       "      <td>NaN</td>\n",
       "      <td>NaN</td>\n",
       "      <td>NaN</td>\n",
       "      <td>NaN</td>\n",
       "      <td>NaN</td>\n",
       "      <td>2015-10-21 05:55:00</td>\n",
       "      <td>noise</td>\n",
       "      <td>109C.TA_201510210555_NO</td>\n",
       "    </tr>\n",
       "    <tr>\n",
       "      <th>1</th>\n",
       "      <td>TA</td>\n",
       "      <td>109C</td>\n",
       "      <td>HH</td>\n",
       "      <td>32.8889</td>\n",
       "      <td>-117.1051</td>\n",
       "      <td>150.0</td>\n",
       "      <td>NaN</td>\n",
       "      <td>NaN</td>\n",
       "      <td>NaN</td>\n",
       "      <td>NaN</td>\n",
       "      <td>...</td>\n",
       "      <td>NaN</td>\n",
       "      <td>NaN</td>\n",
       "      <td>NaN</td>\n",
       "      <td>NaN</td>\n",
       "      <td>NaN</td>\n",
       "      <td>NaN</td>\n",
       "      <td>NaN</td>\n",
       "      <td>2015-11-06 14:50:00</td>\n",
       "      <td>noise</td>\n",
       "      <td>109C.TA_201511061450_NO</td>\n",
       "    </tr>\n",
       "    <tr>\n",
       "      <th>2</th>\n",
       "      <td>TA</td>\n",
       "      <td>109C</td>\n",
       "      <td>HH</td>\n",
       "      <td>32.8889</td>\n",
       "      <td>-117.1051</td>\n",
       "      <td>150.0</td>\n",
       "      <td>NaN</td>\n",
       "      <td>NaN</td>\n",
       "      <td>NaN</td>\n",
       "      <td>NaN</td>\n",
       "      <td>...</td>\n",
       "      <td>NaN</td>\n",
       "      <td>NaN</td>\n",
       "      <td>NaN</td>\n",
       "      <td>NaN</td>\n",
       "      <td>NaN</td>\n",
       "      <td>NaN</td>\n",
       "      <td>NaN</td>\n",
       "      <td>2015-11-07 02:20:00</td>\n",
       "      <td>noise</td>\n",
       "      <td>109C.TA_201511070220_NO</td>\n",
       "    </tr>\n",
       "    <tr>\n",
       "      <th>3</th>\n",
       "      <td>TA</td>\n",
       "      <td>109C</td>\n",
       "      <td>HH</td>\n",
       "      <td>32.8889</td>\n",
       "      <td>-117.1051</td>\n",
       "      <td>150.0</td>\n",
       "      <td>NaN</td>\n",
       "      <td>NaN</td>\n",
       "      <td>NaN</td>\n",
       "      <td>NaN</td>\n",
       "      <td>...</td>\n",
       "      <td>NaN</td>\n",
       "      <td>NaN</td>\n",
       "      <td>NaN</td>\n",
       "      <td>NaN</td>\n",
       "      <td>NaN</td>\n",
       "      <td>NaN</td>\n",
       "      <td>NaN</td>\n",
       "      <td>2015-11-14 05:15:00</td>\n",
       "      <td>noise</td>\n",
       "      <td>109C.TA_201511140515_NO</td>\n",
       "    </tr>\n",
       "    <tr>\n",
       "      <th>4</th>\n",
       "      <td>TA</td>\n",
       "      <td>109C</td>\n",
       "      <td>HH</td>\n",
       "      <td>32.8889</td>\n",
       "      <td>-117.1051</td>\n",
       "      <td>150.0</td>\n",
       "      <td>NaN</td>\n",
       "      <td>NaN</td>\n",
       "      <td>NaN</td>\n",
       "      <td>NaN</td>\n",
       "      <td>...</td>\n",
       "      <td>NaN</td>\n",
       "      <td>NaN</td>\n",
       "      <td>NaN</td>\n",
       "      <td>NaN</td>\n",
       "      <td>NaN</td>\n",
       "      <td>NaN</td>\n",
       "      <td>NaN</td>\n",
       "      <td>2015-12-25 18:50:00</td>\n",
       "      <td>noise</td>\n",
       "      <td>109C.TA_201512251850_NO</td>\n",
       "    </tr>\n",
       "  </tbody>\n",
       "</table>\n",
       "<p>5 rows × 35 columns</p>\n",
       "</div>"
      ],
      "text/plain": [
       "  network_code receiver_code receiver_type  receiver_latitude  \\\n",
       "0           TA          109C            HH            32.8889   \n",
       "1           TA          109C            HH            32.8889   \n",
       "2           TA          109C            HH            32.8889   \n",
       "3           TA          109C            HH            32.8889   \n",
       "4           TA          109C            HH            32.8889   \n",
       "\n",
       "   receiver_longitude  receiver_elevation_m  p_arrival_sample p_status  \\\n",
       "0           -117.1051                 150.0               NaN      NaN   \n",
       "1           -117.1051                 150.0               NaN      NaN   \n",
       "2           -117.1051                 150.0               NaN      NaN   \n",
       "3           -117.1051                 150.0               NaN      NaN   \n",
       "4           -117.1051                 150.0               NaN      NaN   \n",
       "\n",
       "   p_weight  p_travel_sec  ...  source_magnitude_author  \\\n",
       "0       NaN           NaN  ...                      NaN   \n",
       "1       NaN           NaN  ...                      NaN   \n",
       "2       NaN           NaN  ...                      NaN   \n",
       "3       NaN           NaN  ...                      NaN   \n",
       "4       NaN           NaN  ...                      NaN   \n",
       "\n",
       "  source_mechanism_strike_dip_rake  source_distance_deg source_distance_km  \\\n",
       "0                              NaN                  NaN                NaN   \n",
       "1                              NaN                  NaN                NaN   \n",
       "2                              NaN                  NaN                NaN   \n",
       "3                              NaN                  NaN                NaN   \n",
       "4                              NaN                  NaN                NaN   \n",
       "\n",
       "  back_azimuth_deg snr_db  coda_end_sample     trace_start_time  \\\n",
       "0              NaN    NaN              NaN  2015-10-21 05:55:00   \n",
       "1              NaN    NaN              NaN  2015-11-06 14:50:00   \n",
       "2              NaN    NaN              NaN  2015-11-07 02:20:00   \n",
       "3              NaN    NaN              NaN  2015-11-14 05:15:00   \n",
       "4              NaN    NaN              NaN  2015-12-25 18:50:00   \n",
       "\n",
       "  trace_category               trace_name  \n",
       "0          noise  109C.TA_201510210555_NO  \n",
       "1          noise  109C.TA_201511061450_NO  \n",
       "2          noise  109C.TA_201511070220_NO  \n",
       "3          noise  109C.TA_201511140515_NO  \n",
       "4          noise  109C.TA_201512251850_NO  \n",
       "\n",
       "[5 rows x 35 columns]"
      ]
     },
     "execution_count": 5,
     "metadata": {},
     "output_type": "execute_result"
    }
   ],
   "source": [
    "df = pd.read_csv('merge.csv')\n",
    "df.head()"
   ]
  },
  {
   "cell_type": "code",
   "execution_count": 6,
   "id": "a926c728",
   "metadata": {},
   "outputs": [],
   "source": [
    "def RandomUnderSampler(df_earthquake, random_state=24, size_underSample=20000):\n",
    "    np.random.seed(random_state)\n",
    "    index = np.random.randint(0, len(df_earthquake)+1, size=size_underSample)\n",
    "    return df_earthquake.loc[index].reset_index(drop=True)\n",
    "\n",
    "df_noise = df[df['trace_category']=='noise'][['p_arrival_sample', 's_arrival_sample',\n",
    "                                              'source_magnitude', 'trace_name', 'trace_category']]\n",
    "df_noise = df_noise.reset_index(drop=True)\n",
    "df_noise = df_noise.fillna(-1)\n",
    "\n",
    "df_earthquake = df[df['trace_category']=='earthquake_local'][['p_arrival_sample', 's_arrival_sample',\n",
    "                                                              'source_magnitude', 'trace_name', 'trace_category']]\n",
    "df_earthquake = df_earthquake.reset_index(drop=True)\n",
    "df_earthquake_sample = RandomUnderSampler(df_earthquake, size_underSample=df_noise.shape[0],\n",
    "                                   random_state=24)"
   ]
  },
  {
   "cell_type": "code",
   "execution_count": 7,
   "id": "f4ceaf69",
   "metadata": {},
   "outputs": [
    {
     "data": {
      "text/html": [
       "<div>\n",
       "<style scoped>\n",
       "    .dataframe tbody tr th:only-of-type {\n",
       "        vertical-align: middle;\n",
       "    }\n",
       "\n",
       "    .dataframe tbody tr th {\n",
       "        vertical-align: top;\n",
       "    }\n",
       "\n",
       "    .dataframe thead th {\n",
       "        text-align: right;\n",
       "    }\n",
       "</style>\n",
       "<table border=\"1\" class=\"dataframe\">\n",
       "  <thead>\n",
       "    <tr style=\"text-align: right;\">\n",
       "      <th></th>\n",
       "      <th>p_arrival_sample</th>\n",
       "      <th>s_arrival_sample</th>\n",
       "      <th>source_magnitude</th>\n",
       "      <th>trace_name</th>\n",
       "      <th>trace_category</th>\n",
       "    </tr>\n",
       "  </thead>\n",
       "  <tbody>\n",
       "    <tr>\n",
       "      <th>527399</th>\n",
       "      <td>400.0</td>\n",
       "      <td>473.0</td>\n",
       "      <td>1.93</td>\n",
       "      <td>GDXB.NC_20130721134219_EV</td>\n",
       "      <td>earthquake_local</td>\n",
       "    </tr>\n",
       "    <tr>\n",
       "      <th>770755</th>\n",
       "      <td>1000.0</td>\n",
       "      <td>3768.0</td>\n",
       "      <td>3.50</td>\n",
       "      <td>OHAK.AT_20180927151929_EV</td>\n",
       "      <td>earthquake_local</td>\n",
       "    </tr>\n",
       "    <tr>\n",
       "      <th>23292</th>\n",
       "      <td>500.0</td>\n",
       "      <td>1893.0</td>\n",
       "      <td>3.30</td>\n",
       "      <td>ALN.HT_20100914071737_EV</td>\n",
       "      <td>earthquake_local</td>\n",
       "    </tr>\n",
       "    <tr>\n",
       "      <th>60135</th>\n",
       "      <td>700.0</td>\n",
       "      <td>809.0</td>\n",
       "      <td>1.46</td>\n",
       "      <td>B067.PB_20141204201722_EV</td>\n",
       "      <td>earthquake_local</td>\n",
       "    </tr>\n",
       "    <tr>\n",
       "      <th>607313</th>\n",
       "      <td>700.0</td>\n",
       "      <td>792.0</td>\n",
       "      <td>1.67</td>\n",
       "      <td>ID06.GS_20170912111559_EV</td>\n",
       "      <td>earthquake_local</td>\n",
       "    </tr>\n",
       "  </tbody>\n",
       "</table>\n",
       "</div>"
      ],
      "text/plain": [
       "        p_arrival_sample  s_arrival_sample  source_magnitude  \\\n",
       "527399             400.0             473.0              1.93   \n",
       "770755            1000.0            3768.0              3.50   \n",
       "23292              500.0            1893.0              3.30   \n",
       "60135              700.0             809.0              1.46   \n",
       "607313             700.0             792.0              1.67   \n",
       "\n",
       "                       trace_name    trace_category  \n",
       "527399  GDXB.NC_20130721134219_EV  earthquake_local  \n",
       "770755  OHAK.AT_20180927151929_EV  earthquake_local  \n",
       "23292    ALN.HT_20100914071737_EV  earthquake_local  \n",
       "60135   B067.PB_20141204201722_EV  earthquake_local  \n",
       "607313  ID06.GS_20170912111559_EV  earthquake_local  "
      ]
     },
     "metadata": {},
     "output_type": "display_data"
    },
    {
     "name": "stdout",
     "output_type": "stream",
     "text": [
      "\n",
      "None\n",
      "\n",
      "DataFrame 2 Shape       : (1030231, 5)\n",
      "DataFrame 2 Sliced Shape: (103, 5)\n",
      "\n"
     ]
    }
   ],
   "source": [
    "df_2 = pd.concat([df_earthquake_sample, df_noise]).reset_index(drop=True)\n",
    "rate = .1/1000 # 0<=rate<=1, ketika rate 1 mengambil seluruh data (balanced), ketika 0 tidak ada data yg di ambil\n",
    "df_2_slice = df_earthquake.groupby('trace_category', group_keys=False).apply(lambda x: x.sample(int(len(df_earthquake)*rate))) \n",
    "\n",
    "print(f'''\n",
    "{display(df_earthquake.sample(5))}\n",
    "\n",
    "DataFrame 2 Shape       : {df_earthquake.shape}\n",
    "DataFrame 2 Sliced Shape: {df_2_slice.shape}\n",
    "''')"
   ]
  },
  {
   "cell_type": "code",
   "execution_count": 8,
   "id": "68d26cd6",
   "metadata": {},
   "outputs": [
    {
     "name": "stdout",
     "output_type": "stream",
     "text": [
      "\n",
      "X_train Shape: (82,)\n",
      "X_test  Shape: (21,)\n",
      "\n"
     ]
    },
    {
     "name": "stderr",
     "output_type": "stream",
     "text": [
      "C:\\Users\\Zhafran\\AppData\\Local\\Temp/ipykernel_3872/2002802016.py:3: SettingWithCopyWarning: \n",
      "A value is trying to be set on a copy of a slice from a DataFrame.\n",
      "Try using .loc[row_indexer,col_indexer] = value instead\n",
      "\n",
      "See the caveats in the documentation: https://pandas.pydata.org/pandas-docs/stable/user_guide/indexing.html#returning-a-view-versus-a-copy\n",
      "  y['s_arrival_sample'] = y['s_arrival_sample'].map(lambda x: np.log(x))\n",
      "C:\\Users\\Zhafran\\AppData\\Local\\Temp/ipykernel_3872/2002802016.py:4: SettingWithCopyWarning: \n",
      "A value is trying to be set on a copy of a slice from a DataFrame.\n",
      "Try using .loc[row_indexer,col_indexer] = value instead\n",
      "\n",
      "See the caveats in the documentation: https://pandas.pydata.org/pandas-docs/stable/user_guide/indexing.html#returning-a-view-versus-a-copy\n",
      "  y['source_magnitude'] = y['source_magnitude'].map(lambda x: np.log1p(x))\n"
     ]
    }
   ],
   "source": [
    "X = df_2_slice['trace_name']\n",
    "y = df_2_slice[['s_arrival_sample', 'source_magnitude']]\n",
    "y['s_arrival_sample'] = y['s_arrival_sample'].map(lambda x: np.log(x))\n",
    "y['source_magnitude'] = y['source_magnitude'].map(lambda x: np.log1p(x))\n",
    "\n",
    "X_train_val, X_test, y_train_val, y_test = train_test_split(X, y, train_size=0.8)\n",
    "# X_test, X_val, y_test, y_val = train_test_split(X_test_val, y_test_val, train_size=0.5)\n",
    "\n",
    "print(f'''\n",
    "X_train Shape: {X_train_val.shape}\n",
    "X_test  Shape: {X_test.shape}\n",
    "''')"
   ]
  },
  {
   "cell_type": "code",
   "execution_count": 9,
   "id": "1b95652e",
   "metadata": {},
   "outputs": [],
   "source": [
    "def get_waveform(trace_name):\n",
    "    '''\n",
    "    Kolom 1: East-West Channel\n",
    "    Kolom 2: North-South Channel\n",
    "    Kolom 3: Z (Vertical) Channel\n",
    "    '''\n",
    "    filename = \"merge.hdf5\"\n",
    "    with h5py.File(filename, \"r\") as f:\n",
    "        data = f.get('data/'+trace_name)\n",
    "        data = np.array(data)\n",
    "    return data"
   ]
  },
  {
   "cell_type": "code",
   "execution_count": 10,
   "id": "42a5a8a5",
   "metadata": {},
   "outputs": [],
   "source": [
    "# def DenoiseWavelet(data, type='BayesShrink'):\n",
    "#     def BayesShrink():\n",
    "#         im_bayes = denoise_wavelet(np.array(data), convert2ycbcr=True, multichannel=True,\n",
    "#                                    method='BayesShrink', mode='soft', \n",
    "#                                    rescale_sigma=True, wavelet_levels=4)\n",
    "#         return im_bayes\n",
    "    \n",
    "#     def VisuShrink():\n",
    "#         sigma_est = estimate_sigma(np.array(data), multichannel=True, average_sigmas=True)\n",
    "#         im_visu = denoise_wavelet(np.array(img), convert2ycbcr=True, multichannel=True,\n",
    "#                                   method='VisuShrink', mode='soft', wavelet_levels=4,\n",
    "#                                   sigma=sigma_est, rescale_sigma=True)\n",
    "        \n",
    "#         return im_visu\n",
    "    \n",
    "#     if type=='BayesShrink':\n",
    "#         return BayesShrink()\n",
    "#     elif type=='VisuShrink':\n",
    "#         return VisuShrink()\n",
    "\n",
    "# def create_data(data_feature, data_label, BATCH=32):\n",
    "#     def create_feature():\n",
    "#         rs = []\n",
    "#         for t in tqdm(data_feature.values):\n",
    "#             data_l = get_waveform(t)\n",
    "#             data_denoise = DenoiseWavelet(data_l, type='BayesShrink')\n",
    "#             rs.append(data_denoise)\n",
    "#         return tf.stack(rs)\n",
    "    \n",
    "#     def create_label():\n",
    "#         return np.array(data_label.values)\n",
    "    \n",
    "#     def create_dataset(feature, label): \n",
    "#         feature_dt = tf.data.Dataset.from_tensor_slices(feature)\n",
    "#         label_dt = tf.data.Dataset.from_tensor_slices(label)\n",
    "\n",
    "#         dt = tf.data.Dataset.zip((feature_dt, label_dt))\n",
    "#         dt = dt.cache().shuffle(buffer_size=BATCH)\n",
    "#         dt = dt.batch(BATCH).prefetch(buffer_size=tf.data.experimental.AUTOTUNE)\n",
    "    \n",
    "#         return dt\n",
    "    \n",
    "#     feature = create_feature()\n",
    "#     label = create_label()\n",
    "    \n",
    "#     ts_dt = create_dataset(feature, label)\n",
    "#     print(f'\\n{ts_dt}\\n')\n",
    "#     return ts_dt\n",
    "\n",
    "# dt_train = create_data(data_feature=X_train,\n",
    "#                        data_label=y_train)\n",
    "\n",
    "# dt_val = create_data(data_feature=X_val,\n",
    "#                      data_label=y_val)\n",
    "\n",
    "# dt_test = create_data(data_feature=X_test,\n",
    "#                       data_label=y_test)"
   ]
  },
  {
   "cell_type": "code",
   "execution_count": 11,
   "id": "b0b7c413",
   "metadata": {},
   "outputs": [],
   "source": [
    "class DataGenerator(Sequence):\n",
    "    def __init__(self, x_set, y_set, batch_size):\n",
    "        self.x, self.y = x_set, y_set\n",
    "        self.batch_size = batch_size\n",
    "\n",
    "    def __len__(self):\n",
    "        return int(np.ceil(len(self.x) / float(self.batch_size)))\n",
    "\n",
    "    def __getitem__(self, idx):\n",
    "        batch_x = self.x[idx * self.batch_size:(idx + 1) * self.batch_size]\n",
    "        batch_y = self.y[idx * self.batch_size:(idx + 1) * self.batch_size]\n",
    "        return batch_x, batch_y\n",
    "\n",
    "def DenoiseWavelet(data, type='BayesShrink'):\n",
    "    def BayesShrink():\n",
    "        im_bayes = denoise_wavelet(np.array(data), convert2ycbcr=True, multichannel=True,\n",
    "                                   method='BayesShrink', mode='soft', \n",
    "                                   rescale_sigma=True, wavelet_levels=4)\n",
    "        return im_bayes\n",
    "    \n",
    "    def VisuShrink():\n",
    "        sigma_est = estimate_sigma(np.array(data), multichannel=True, average_sigmas=True)\n",
    "        im_visu = denoise_wavelet(np.array(img), convert2ycbcr=True, multichannel=True,\n",
    "                                  method='VisuShrink', mode='soft', wavelet_levels=4,\n",
    "                                  sigma=sigma_est, rescale_sigma=True)\n",
    "        \n",
    "        return im_visu\n",
    "    \n",
    "    if type=='BayesShrink':\n",
    "        return BayesShrink()\n",
    "    elif type=='VisuShrink':\n",
    "        return VisuShrink()\n",
    "\n",
    "def create_data_2(data_feature, data_label, BATCH=128):\n",
    "    def create_feature():\n",
    "        rs = []\n",
    "        for t in tqdm(data_feature.values):\n",
    "            data_l = get_waveform(t)\n",
    "            data_denoise = DenoiseWavelet(data_l, type='BayesShrink')\n",
    "            rs.append(data_denoise)\n",
    "        return np.array(rs)\n",
    "    \n",
    "    def create_label():\n",
    "        return np.array(data_label.values)\n",
    "    \n",
    "    def create_dataset(feature, label): \n",
    "        gen = DataGenerator(feature, label, BATCH)\n",
    "        return gen\n",
    "    \n",
    "    feature = create_feature()\n",
    "    label = create_label()\n",
    "    \n",
    "#     ts_dt = create_dataset(feature, label)\n",
    "#     print(f'\\n{ts_dt}\\n')\n",
    "    return {'feature':feature, 'label':label}"
   ]
  },
  {
   "cell_type": "code",
   "execution_count": 16,
   "id": "3a41f206",
   "metadata": {},
   "outputs": [
    {
     "data": {
      "text/html": [
       "<div>\n",
       "<style scoped>\n",
       "    .dataframe tbody tr th:only-of-type {\n",
       "        vertical-align: middle;\n",
       "    }\n",
       "\n",
       "    .dataframe tbody tr th {\n",
       "        vertical-align: top;\n",
       "    }\n",
       "\n",
       "    .dataframe thead th {\n",
       "        text-align: right;\n",
       "    }\n",
       "</style>\n",
       "<table border=\"1\" class=\"dataframe\">\n",
       "  <thead>\n",
       "    <tr style=\"text-align: right;\">\n",
       "      <th></th>\n",
       "      <th>s_arrival_sample</th>\n",
       "      <th>source_magnitude</th>\n",
       "    </tr>\n",
       "  </thead>\n",
       "  <tbody>\n",
       "    <tr>\n",
       "      <th>661657</th>\n",
       "      <td>6.930495</td>\n",
       "      <td>0.307485</td>\n",
       "    </tr>\n",
       "    <tr>\n",
       "      <th>520036</th>\n",
       "      <td>6.635947</td>\n",
       "      <td>0.444686</td>\n",
       "    </tr>\n",
       "    <tr>\n",
       "      <th>672343</th>\n",
       "      <td>7.673564</td>\n",
       "      <td>0.875469</td>\n",
       "    </tr>\n",
       "    <tr>\n",
       "      <th>856665</th>\n",
       "      <td>7.324358</td>\n",
       "      <td>0.741937</td>\n",
       "    </tr>\n",
       "    <tr>\n",
       "      <th>734731</th>\n",
       "      <td>6.909753</td>\n",
       "      <td>0.932164</td>\n",
       "    </tr>\n",
       "    <tr>\n",
       "      <th>...</th>\n",
       "      <td>...</td>\n",
       "      <td>...</td>\n",
       "    </tr>\n",
       "    <tr>\n",
       "      <th>107818</th>\n",
       "      <td>6.817831</td>\n",
       "      <td>1.029619</td>\n",
       "    </tr>\n",
       "    <tr>\n",
       "      <th>443066</th>\n",
       "      <td>7.251345</td>\n",
       "      <td>1.261298</td>\n",
       "    </tr>\n",
       "    <tr>\n",
       "      <th>731434</th>\n",
       "      <td>7.249651</td>\n",
       "      <td>1.064711</td>\n",
       "    </tr>\n",
       "    <tr>\n",
       "      <th>396214</th>\n",
       "      <td>6.599885</td>\n",
       "      <td>0.631272</td>\n",
       "    </tr>\n",
       "    <tr>\n",
       "      <th>338888</th>\n",
       "      <td>7.725683</td>\n",
       "      <td>1.029619</td>\n",
       "    </tr>\n",
       "  </tbody>\n",
       "</table>\n",
       "<p>103 rows × 2 columns</p>\n",
       "</div>"
      ],
      "text/plain": [
       "        s_arrival_sample  source_magnitude\n",
       "661657          6.930495          0.307485\n",
       "520036          6.635947          0.444686\n",
       "672343          7.673564          0.875469\n",
       "856665          7.324358          0.741937\n",
       "734731          6.909753          0.932164\n",
       "...                  ...               ...\n",
       "107818          6.817831          1.029619\n",
       "443066          7.251345          1.261298\n",
       "731434          7.249651          1.064711\n",
       "396214          6.599885          0.631272\n",
       "338888          7.725683          1.029619\n",
       "\n",
       "[103 rows x 2 columns]"
      ]
     },
     "execution_count": 16,
     "metadata": {},
     "output_type": "execute_result"
    }
   ],
   "source": [
    "# data_json = create_data_2(data_feature=X,\n",
    "#                           data_label=y)\n",
    "y"
   ]
  },
  {
   "cell_type": "code",
   "execution_count": null,
   "id": "3ba7404f",
   "metadata": {},
   "outputs": [],
   "source": [
    "data_json"
   ]
  },
  {
   "cell_type": "code",
   "execution_count": 48,
   "id": "dc7c6f53",
   "metadata": {},
   "outputs": [],
   "source": [
    "# dt_val = create_data_2(data_feature=X_val,\n",
    "#                      data_label=y_val)"
   ]
  },
  {
   "cell_type": "code",
   "execution_count": 7,
   "id": "659f010b",
   "metadata": {},
   "outputs": [],
   "source": [
    "# json_test = create_data_2(data_feature=X_test,\n",
    "#                           data_label=y_test)"
   ]
  },
  {
   "cell_type": "code",
   "execution_count": 39,
   "id": "b1e17885",
   "metadata": {},
   "outputs": [
    {
     "name": "stdout",
     "output_type": "stream",
     "text": [
      "Wall time: 2min 16s\n"
     ]
    }
   ],
   "source": [
    "%%time\n",
    "\n",
    "datas_ = [dt_train, dt_val, dt_test]\n",
    "types_ = ['Train', 'Val', 'Test']\n",
    "\n",
    "for data_, type_ in zip(datas_, types_):\n",
    "    data_json = {}\n",
    "    data_json.update({\n",
    "        'X':data_.x,\n",
    "        'y':data_.y,\n",
    "        'Batch':data_.batch_size\n",
    "    })\n",
    "    path = os.path.join(os.getcwd(), 'Prefetch Dataset', 'v2 - 50%', f'{type_}.json')\n",
    "    with open(path, 'wb') as fp:\n",
    "        pickle.dump(data_json, fp)"
   ]
  },
  {
   "cell_type": "code",
   "execution_count": 2,
   "id": "f7f171ee",
   "metadata": {},
   "outputs": [
    {
     "name": "stdout",
     "output_type": "stream",
     "text": [
      "Wall time: 28 s\n"
     ]
    }
   ],
   "source": [
    "%%time\n",
    "class DataGenerator(Sequence):\n",
    "    def __init__(self, x_set, y_set, batch_size):\n",
    "        self.x, self.y = x_set, y_set\n",
    "        self.batch_size = batch_size\n",
    "\n",
    "    def __len__(self):\n",
    "        return int(np.ceil(len(self.x) / float(self.batch_size)))\n",
    "\n",
    "    def __getitem__(self, idx):\n",
    "        batch_x = self.x[idx * self.batch_size:(idx + 1) * self.batch_size]\n",
    "        batch_y = self.y[idx * self.batch_size:(idx + 1) * self.batch_size]\n",
    "        return batch_x, batch_y\n",
    "    \n",
    "path = os.path.join(os.getcwd(), 'Prefetch Dataset', 'v2 - 50%')\n",
    "\n",
    "with open(os.path.join(path, 'Train.json'), 'rb') as fp:\n",
    "    dt_train = pickle.load(fp)\n",
    "\n",
    "with open(os.path.join(path, 'Val.json'), 'rb') as fp:\n",
    "    dt_val = pickle.load(fp)\n",
    "\n",
    "with open(os.path.join(path, 'Test.json'), 'rb') as fp:\n",
    "    dt_test = pickle.load(fp)\n",
    "\n",
    "dt_train = DataGenerator(dt_train['X'], dt_train['y'], 196)\n",
    "dt_val = DataGenerator(dt_val['X'], dt_val['y'], 196)\n",
    "dt_test = DataGenerator(dt_test['X'], dt_test['y'], 196)"
   ]
  },
  {
   "cell_type": "code",
   "execution_count": 12,
   "id": "36c29de3",
   "metadata": {
    "scrolled": true
   },
   "outputs": [
    {
     "name": "stdout",
     "output_type": "stream",
     "text": [
      "INFO:tensorflow:Reloading Oracle from existing project C:\\Users\\Zhafran\\Documents\\Data Science\\BANGKIT - Capstone - Earthquake\\HyperParameter Tuner Log\\HyperParam Tuner S-Wave and Magnitude -2-\\oracle.json\n",
      "INFO:tensorflow:Reloading Tuner from C:\\Users\\Zhafran\\Documents\\Data Science\\BANGKIT - Capstone - Earthquake\\HyperParameter Tuner Log\\HyperParam Tuner S-Wave and Magnitude -2-\\tuner0.json\n"
     ]
    }
   ],
   "source": [
    "tf.keras.backend.clear_session()\n",
    "\n",
    "def model_builder(hp):\n",
    "    model = keras.Sequential()\n",
    "    \n",
    "    model.add(tf.keras.layers.Input((6000, 3)))\n",
    "    \n",
    "    for layer_conv in range(hp.Int('layer_conv_', 1, 5)):\n",
    "        hp_unit = hp.Int('units_'+str(layer_conv), 32, 256, step=32)\n",
    "        hp_kernel = hp.Int('kernels_'+str(layer_conv), 1, 9, step=1)\n",
    "        is_activation = hp.Choice('is_activation', ['ReLU', 'LeakyReLU'])\n",
    "        alpha_leaky_relu = hp.Float('alpha_leakyReLU_'+str(layer_conv),\n",
    "                                    0.1, 0.5, step=0.1)\n",
    "        is_pool = hp.Choice(\"is_pool\", [\"avg\", \"max\"])\n",
    "\n",
    "        \n",
    "        model.add(tf.keras.layers.Conv1D(filters=hp_unit,\n",
    "                                         kernel_size=hp_kernel))\n",
    "        model.add(tf.keras.layers.BatchNormalization())\n",
    "        if is_activation=='ReLU':\n",
    "            with hp.conditional_scope('is_activation', ['ReLU']):\n",
    "                model.add(tf.keras.layers.Activation('relu'))\n",
    "        elif is_activation=='LeakyReLU':\n",
    "            with hp.conditional_scope('is_activation', ['LeakyReLU']):\n",
    "                model.add(tf.keras.layers.LeakyReLU(alpha=alpha_leaky_relu))\n",
    "                \n",
    "        if is_pool == \"avg\":\n",
    "            with hp.conditional_scope(\"is_pool\", [\"avg\"]):\n",
    "                model.add(tf.keras.layers.AveragePooling1D())\n",
    "        if is_pool == \"max\":\n",
    "            with hp.conditional_scope(\"is_pool\", [\"max\"]):\n",
    "                model.add(tf.keras.layers.MaxPooling1D())\n",
    "    \n",
    "    hp_unit_gru = hp.Int('units_gru_', 64, 128, step=32)\n",
    "    model.add(tf.keras.layers.GRU(units=hp_unit_gru, return_sequences=True)) \n",
    "    model.add(tf.keras.layers.Flatten())\n",
    "    \n",
    "    for layer_dense in range(hp.Int('layer_dense_', 2, 4)):\n",
    "        hp_unit_dense = hp.Int('units_'+str(layer_dense), 64, 256, step=32)\n",
    "        hp_unit_dropout_dense = hp.Float('dropout_dense_', 0.1, 0.5, step=0.1)\n",
    "        \n",
    "        model.add(tf.keras.layers.Dense(units=hp_unit_dense))\n",
    "        model.add(tf.keras.layers.Dropout(rate=hp_unit_dropout_dense))\n",
    "        \n",
    "    model.add(tf.keras.layers.Dense(2))\n",
    "    model.compile(optimizer=tf.keras.optimizers.Adam(), #tfa.optimizers.LazyAdam(),\n",
    "              loss=tf.keras.losses.MeanSquaredError())\n",
    "    return model\n",
    "\n",
    "tuner = kt.BayesianOptimization(model_builder,\n",
    "                     objective=kt.Objective(\"val_loss\", direction=\"min\"),\n",
    "                     max_trials=20,\n",
    "                     project_name='HyperParam Tuner S-Wave and Magnitude -2-',\n",
    "                     directory=os.path.join(os.getcwd(), 'HyperParameter Tuner Log'))\n",
    "\n",
    "reduce_lr = tf.keras.callbacks.ReduceLROnPlateau(monitor='val_loss', factor=0.5,\n",
    "                                                 patience=5, min_lr=0.0001)\n",
    "early_stop = tf.keras.callbacks.EarlyStopping(monitor='val_loss', patience=5)\n",
    "\n",
    "# tuner.search(dt_train, validation_data=dt_val,\n",
    "#              epochs=15,\n",
    "#              use_multiprocessing=True,\n",
    "#              workers=4)"
   ]
  },
  {
   "cell_type": "code",
   "execution_count": 13,
   "id": "ba6998fa",
   "metadata": {
    "scrolled": true
   },
   "outputs": [
    {
     "name": "stdout",
     "output_type": "stream",
     "text": [
      "Model: \"sequential_1\"\n",
      "_________________________________________________________________\n",
      " Layer (type)                Output Shape              Param #   \n",
      "=================================================================\n",
      " conv1d_1 (Conv1D)           (None, 6000, 32)          128       \n",
      "                                                                 \n",
      " batch_normalization_1 (Batc  (None, 6000, 32)         128       \n",
      " hNormalization)                                                 \n",
      "                                                                 \n",
      " activation_1 (Activation)   (None, 6000, 32)          0         \n",
      "                                                                 \n",
      " max_pooling1d (MaxPooling1D  (None, 3000, 32)         0         \n",
      " )                                                               \n",
      "                                                                 \n",
      " conv1d_2 (Conv1D)           (None, 3000, 256)         8448      \n",
      "                                                                 \n",
      " batch_normalization_2 (Batc  (None, 3000, 256)        1024      \n",
      " hNormalization)                                                 \n",
      "                                                                 \n",
      " activation_2 (Activation)   (None, 3000, 256)         0         \n",
      "                                                                 \n",
      " max_pooling1d_1 (MaxPooling  (None, 1500, 256)        0         \n",
      " 1D)                                                             \n",
      "                                                                 \n",
      " conv1d_3 (Conv1D)           (None, 1500, 32)          8224      \n",
      "                                                                 \n",
      " batch_normalization_3 (Batc  (None, 1500, 32)         128       \n",
      " hNormalization)                                                 \n",
      "                                                                 \n",
      " activation_3 (Activation)   (None, 1500, 32)          0         \n",
      "                                                                 \n",
      " max_pooling1d_2 (MaxPooling  (None, 750, 32)          0         \n",
      " 1D)                                                             \n",
      "                                                                 \n",
      " conv1d_4 (Conv1D)           (None, 750, 64)           2112      \n",
      "                                                                 \n",
      " batch_normalization_4 (Batc  (None, 750, 64)          256       \n",
      " hNormalization)                                                 \n",
      "                                                                 \n",
      " activation_4 (Activation)   (None, 750, 64)           0         \n",
      "                                                                 \n",
      " max_pooling1d_3 (MaxPooling  (None, 375, 64)          0         \n",
      " 1D)                                                             \n",
      "                                                                 \n",
      " conv1d_5 (Conv1D)           (None, 369, 256)          114944    \n",
      "                                                                 \n",
      " batch_normalization_5 (Batc  (None, 369, 256)         1024      \n",
      " hNormalization)                                                 \n",
      "                                                                 \n",
      " activation_5 (Activation)   (None, 369, 256)          0         \n",
      "                                                                 \n",
      " max_pooling1d_4 (MaxPooling  (None, 184, 256)         0         \n",
      " 1D)                                                             \n",
      "                                                                 \n",
      " gru_1 (GRU)                 (None, 184, 64)           61824     \n",
      "                                                                 \n",
      " flatten_1 (Flatten)         (None, 11776)             0         \n",
      "                                                                 \n",
      " dense_3 (Dense)             (None, 32)                376864    \n",
      "                                                                 \n",
      " dropout_2 (Dropout)         (None, 32)                0         \n",
      "                                                                 \n",
      " dense_4 (Dense)             (None, 256)               8448      \n",
      "                                                                 \n",
      " dropout_3 (Dropout)         (None, 256)               0         \n",
      "                                                                 \n",
      " dense_5 (Dense)             (None, 2)                 514       \n",
      "                                                                 \n",
      "=================================================================\n",
      "Total params: 584,066\n",
      "Trainable params: 582,786\n",
      "Non-trainable params: 1,280\n",
      "_________________________________________________________________\n"
     ]
    }
   ],
   "source": [
    "best_hps = tuner.get_best_hyperparameters(num_trials=1)[0]\n",
    "model = tuner.hypermodel.build(best_hps)\n",
    "# model.save('model-visu.h5')\n",
    "model.summary()"
   ]
  },
  {
   "cell_type": "code",
   "execution_count": 134,
   "id": "eebf712b",
   "metadata": {},
   "outputs": [
    {
     "name": "stderr",
     "output_type": "stream",
     "text": [
      "WARNING:absl:Found untraced functions such as gru_cell_21_layer_call_fn, gru_cell_21_layer_call_and_return_conditional_losses while saving (showing 2 of 2). These functions will not be directly callable after loading.\n"
     ]
    },
    {
     "name": "stdout",
     "output_type": "stream",
     "text": [
      "INFO:tensorflow:Assets written to: C:\\Users\\Zhafran\\Documents\\Data Science\\BANGKIT - Capstone - Earthquake\\Model Checkpoint\\v3 (S-Wave 1)\\assets\n"
     ]
    },
    {
     "name": "stderr",
     "output_type": "stream",
     "text": [
      "INFO:tensorflow:Assets written to: C:\\Users\\Zhafran\\Documents\\Data Science\\BANGKIT - Capstone - Earthquake\\Model Checkpoint\\v3 (S-Wave 1)\\assets\n",
      "WARNING:absl:<keras.layers.recurrent.GRUCell object at 0x000001E2E1E5A1C0> has the same name 'GRUCell' as a built-in Keras object. Consider renaming <class 'keras.layers.recurrent.GRUCell'> to avoid naming conflicts when loading with `tf.keras.models.load_model`. If renaming is not possible, pass the object in the `custom_objects` parameter of the load function.\n"
     ]
    }
   ],
   "source": [
    "# Save the entire model as a SavedModel.\n",
    "model.save(os.path.join(os.getcwd(), 'Model Checkpoint', 'v3 (S-Wave 1)'))"
   ]
  },
  {
   "cell_type": "code",
   "execution_count": 6,
   "id": "e04d5b0b",
   "metadata": {},
   "outputs": [],
   "source": [
    "step = tf.Variable(0, trainable=False)\n",
    "schedule = tf.optimizers.schedules.PiecewiseConstantDecay(\n",
    "    [10000, 15000], [1e-0, 1e-1, 1e-2])\n",
    "wd = lambda: 1e-4 * schedule(step)\n",
    "\n",
    "opt_adam = tf.keras.optimizers.Adam()\n",
    "opt_lazyAdam = tfa.optimizers.LazyAdam()\n",
    "opt_adamW = tfa.optimizers.AdamW(weight_decay=wd)\n",
    "opt_adaBelief = tfa.optimizers.AdaBelief()\n",
    "\n",
    "opt_json = {\n",
    "    'Adam':opt_adam,\n",
    "    'Lazy Adam':opt_lazyAdam,\n",
    "    'AdamW':opt_adamW,\n",
    "    'Ada Belief':opt_adaBelief\n",
    "}"
   ]
  },
  {
   "cell_type": "code",
   "execution_count": 8,
   "id": "e1926f28",
   "metadata": {
    "scrolled": true
   },
   "outputs": [
    {
     "name": "stdout",
     "output_type": "stream",
     "text": [
      "===== Adam In Training =====\n",
      "Epoch 1/15\n",
      "1315/1315 [==============================] - 329s 247ms/step - loss: 0.4101 - val_loss: 0.1309 - lr: 0.0010\n",
      "Epoch 2/15\n",
      "1315/1315 [==============================] - 325s 247ms/step - loss: 0.1139 - val_loss: 0.1504 - lr: 0.0010\n",
      "Epoch 3/15\n",
      "1315/1315 [==============================] - 325s 247ms/step - loss: 0.0624 - val_loss: 0.0917 - lr: 0.0010\n",
      "Epoch 4/15\n",
      "1315/1315 [==============================] - 325s 247ms/step - loss: 0.0497 - val_loss: 0.0723 - lr: 0.0010\n",
      "Epoch 5/15\n",
      "1315/1315 [==============================] - 325s 247ms/step - loss: 0.0452 - val_loss: 0.1031 - lr: 0.0010\n",
      "Epoch 6/15\n",
      "1315/1315 [==============================] - 325s 247ms/step - loss: 0.0431 - val_loss: 0.1139 - lr: 0.0010\n",
      "Epoch 7/15\n",
      "1315/1315 [==============================] - ETA: 0s - loss: 0.0405"
     ]
    },
    {
     "ename": "KeyboardInterrupt",
     "evalue": "",
     "output_type": "error",
     "traceback": [
      "\u001b[1;31m---------------------------------------------------------------------------\u001b[0m",
      "\u001b[1;31mKeyboardInterrupt\u001b[0m                         Traceback (most recent call last)",
      "\u001b[1;32m~\\AppData\\Local\\Temp/ipykernel_10608/4066531225.py\u001b[0m in \u001b[0;36m<module>\u001b[1;34m\u001b[0m\n\u001b[0;32m      9\u001b[0m     \u001b[0mmodel\u001b[0m \u001b[1;33m=\u001b[0m \u001b[0mtuner\u001b[0m\u001b[1;33m.\u001b[0m\u001b[0mhypermodel\u001b[0m\u001b[1;33m.\u001b[0m\u001b[0mbuild\u001b[0m\u001b[1;33m(\u001b[0m\u001b[0mbest_hps\u001b[0m\u001b[1;33m)\u001b[0m\u001b[1;33m\u001b[0m\u001b[1;33m\u001b[0m\u001b[0m\n\u001b[0;32m     10\u001b[0m     \u001b[0mmodel\u001b[0m\u001b[1;33m.\u001b[0m\u001b[0mcompile\u001b[0m\u001b[1;33m(\u001b[0m\u001b[0moptimizer\u001b[0m\u001b[1;33m=\u001b[0m\u001b[0mopt_\u001b[0m\u001b[1;33m,\u001b[0m \u001b[0mloss\u001b[0m\u001b[1;33m=\u001b[0m\u001b[0mtf\u001b[0m\u001b[1;33m.\u001b[0m\u001b[0mkeras\u001b[0m\u001b[1;33m.\u001b[0m\u001b[0mlosses\u001b[0m\u001b[1;33m.\u001b[0m\u001b[0mMeanSquaredError\u001b[0m\u001b[1;33m(\u001b[0m\u001b[1;33m)\u001b[0m\u001b[1;33m)\u001b[0m\u001b[1;33m\u001b[0m\u001b[1;33m\u001b[0m\u001b[0m\n\u001b[1;32m---> 11\u001b[1;33m     history = model.fit(dt_train, validation_data=dt_val, epochs=15,\n\u001b[0m\u001b[0;32m     12\u001b[0m                         callbacks=[reduce_lr, early_stop])\n\u001b[0;32m     13\u001b[0m     history_loss.update({\n",
      "\u001b[1;32m~\\.conda\\envs\\ExVodka\\lib\\site-packages\\keras\\utils\\traceback_utils.py\u001b[0m in \u001b[0;36merror_handler\u001b[1;34m(*args, **kwargs)\u001b[0m\n\u001b[0;32m     62\u001b[0m     \u001b[0mfiltered_tb\u001b[0m \u001b[1;33m=\u001b[0m \u001b[1;32mNone\u001b[0m\u001b[1;33m\u001b[0m\u001b[1;33m\u001b[0m\u001b[0m\n\u001b[0;32m     63\u001b[0m     \u001b[1;32mtry\u001b[0m\u001b[1;33m:\u001b[0m\u001b[1;33m\u001b[0m\u001b[1;33m\u001b[0m\u001b[0m\n\u001b[1;32m---> 64\u001b[1;33m       \u001b[1;32mreturn\u001b[0m \u001b[0mfn\u001b[0m\u001b[1;33m(\u001b[0m\u001b[1;33m*\u001b[0m\u001b[0margs\u001b[0m\u001b[1;33m,\u001b[0m \u001b[1;33m**\u001b[0m\u001b[0mkwargs\u001b[0m\u001b[1;33m)\u001b[0m\u001b[1;33m\u001b[0m\u001b[1;33m\u001b[0m\u001b[0m\n\u001b[0m\u001b[0;32m     65\u001b[0m     \u001b[1;32mexcept\u001b[0m \u001b[0mException\u001b[0m \u001b[1;32mas\u001b[0m \u001b[0me\u001b[0m\u001b[1;33m:\u001b[0m  \u001b[1;31m# pylint: disable=broad-except\u001b[0m\u001b[1;33m\u001b[0m\u001b[1;33m\u001b[0m\u001b[0m\n\u001b[0;32m     66\u001b[0m       \u001b[0mfiltered_tb\u001b[0m \u001b[1;33m=\u001b[0m \u001b[0m_process_traceback_frames\u001b[0m\u001b[1;33m(\u001b[0m\u001b[0me\u001b[0m\u001b[1;33m.\u001b[0m\u001b[0m__traceback__\u001b[0m\u001b[1;33m)\u001b[0m\u001b[1;33m\u001b[0m\u001b[1;33m\u001b[0m\u001b[0m\n",
      "\u001b[1;32m~\\.conda\\envs\\ExVodka\\lib\\site-packages\\keras\\engine\\training.py\u001b[0m in \u001b[0;36mfit\u001b[1;34m(self, x, y, batch_size, epochs, verbose, callbacks, validation_split, validation_data, shuffle, class_weight, sample_weight, initial_epoch, steps_per_epoch, validation_steps, validation_batch_size, validation_freq, max_queue_size, workers, use_multiprocessing)\u001b[0m\n\u001b[0;32m   1418\u001b[0m                 \u001b[0mmodel\u001b[0m\u001b[1;33m=\u001b[0m\u001b[0mself\u001b[0m\u001b[1;33m,\u001b[0m\u001b[1;33m\u001b[0m\u001b[1;33m\u001b[0m\u001b[0m\n\u001b[0;32m   1419\u001b[0m                 steps_per_execution=self._steps_per_execution)\n\u001b[1;32m-> 1420\u001b[1;33m           val_logs = self.evaluate(\n\u001b[0m\u001b[0;32m   1421\u001b[0m               \u001b[0mx\u001b[0m\u001b[1;33m=\u001b[0m\u001b[0mval_x\u001b[0m\u001b[1;33m,\u001b[0m\u001b[1;33m\u001b[0m\u001b[1;33m\u001b[0m\u001b[0m\n\u001b[0;32m   1422\u001b[0m               \u001b[0my\u001b[0m\u001b[1;33m=\u001b[0m\u001b[0mval_y\u001b[0m\u001b[1;33m,\u001b[0m\u001b[1;33m\u001b[0m\u001b[1;33m\u001b[0m\u001b[0m\n",
      "\u001b[1;32m~\\.conda\\envs\\ExVodka\\lib\\site-packages\\keras\\utils\\traceback_utils.py\u001b[0m in \u001b[0;36merror_handler\u001b[1;34m(*args, **kwargs)\u001b[0m\n\u001b[0;32m     62\u001b[0m     \u001b[0mfiltered_tb\u001b[0m \u001b[1;33m=\u001b[0m \u001b[1;32mNone\u001b[0m\u001b[1;33m\u001b[0m\u001b[1;33m\u001b[0m\u001b[0m\n\u001b[0;32m     63\u001b[0m     \u001b[1;32mtry\u001b[0m\u001b[1;33m:\u001b[0m\u001b[1;33m\u001b[0m\u001b[1;33m\u001b[0m\u001b[0m\n\u001b[1;32m---> 64\u001b[1;33m       \u001b[1;32mreturn\u001b[0m \u001b[0mfn\u001b[0m\u001b[1;33m(\u001b[0m\u001b[1;33m*\u001b[0m\u001b[0margs\u001b[0m\u001b[1;33m,\u001b[0m \u001b[1;33m**\u001b[0m\u001b[0mkwargs\u001b[0m\u001b[1;33m)\u001b[0m\u001b[1;33m\u001b[0m\u001b[1;33m\u001b[0m\u001b[0m\n\u001b[0m\u001b[0;32m     65\u001b[0m     \u001b[1;32mexcept\u001b[0m \u001b[0mException\u001b[0m \u001b[1;32mas\u001b[0m \u001b[0me\u001b[0m\u001b[1;33m:\u001b[0m  \u001b[1;31m# pylint: disable=broad-except\u001b[0m\u001b[1;33m\u001b[0m\u001b[1;33m\u001b[0m\u001b[0m\n\u001b[0;32m     66\u001b[0m       \u001b[0mfiltered_tb\u001b[0m \u001b[1;33m=\u001b[0m \u001b[0m_process_traceback_frames\u001b[0m\u001b[1;33m(\u001b[0m\u001b[0me\u001b[0m\u001b[1;33m.\u001b[0m\u001b[0m__traceback__\u001b[0m\u001b[1;33m)\u001b[0m\u001b[1;33m\u001b[0m\u001b[1;33m\u001b[0m\u001b[0m\n",
      "\u001b[1;32m~\\.conda\\envs\\ExVodka\\lib\\site-packages\\keras\\engine\\training.py\u001b[0m in \u001b[0;36mevaluate\u001b[1;34m(self, x, y, batch_size, verbose, sample_weight, steps, callbacks, max_queue_size, workers, use_multiprocessing, return_dict, **kwargs)\u001b[0m\n\u001b[0;32m   1714\u001b[0m             \u001b[1;32mwith\u001b[0m \u001b[0mtf\u001b[0m\u001b[1;33m.\u001b[0m\u001b[0mprofiler\u001b[0m\u001b[1;33m.\u001b[0m\u001b[0mexperimental\u001b[0m\u001b[1;33m.\u001b[0m\u001b[0mTrace\u001b[0m\u001b[1;33m(\u001b[0m\u001b[1;34m'test'\u001b[0m\u001b[1;33m,\u001b[0m \u001b[0mstep_num\u001b[0m\u001b[1;33m=\u001b[0m\u001b[0mstep\u001b[0m\u001b[1;33m,\u001b[0m \u001b[0m_r\u001b[0m\u001b[1;33m=\u001b[0m\u001b[1;36m1\u001b[0m\u001b[1;33m)\u001b[0m\u001b[1;33m:\u001b[0m\u001b[1;33m\u001b[0m\u001b[1;33m\u001b[0m\u001b[0m\n\u001b[0;32m   1715\u001b[0m               \u001b[0mcallbacks\u001b[0m\u001b[1;33m.\u001b[0m\u001b[0mon_test_batch_begin\u001b[0m\u001b[1;33m(\u001b[0m\u001b[0mstep\u001b[0m\u001b[1;33m)\u001b[0m\u001b[1;33m\u001b[0m\u001b[1;33m\u001b[0m\u001b[0m\n\u001b[1;32m-> 1716\u001b[1;33m               \u001b[0mtmp_logs\u001b[0m \u001b[1;33m=\u001b[0m \u001b[0mself\u001b[0m\u001b[1;33m.\u001b[0m\u001b[0mtest_function\u001b[0m\u001b[1;33m(\u001b[0m\u001b[0miterator\u001b[0m\u001b[1;33m)\u001b[0m\u001b[1;33m\u001b[0m\u001b[1;33m\u001b[0m\u001b[0m\n\u001b[0m\u001b[0;32m   1717\u001b[0m               \u001b[1;32mif\u001b[0m \u001b[0mdata_handler\u001b[0m\u001b[1;33m.\u001b[0m\u001b[0mshould_sync\u001b[0m\u001b[1;33m:\u001b[0m\u001b[1;33m\u001b[0m\u001b[1;33m\u001b[0m\u001b[0m\n\u001b[0;32m   1718\u001b[0m                 \u001b[0mcontext\u001b[0m\u001b[1;33m.\u001b[0m\u001b[0masync_wait\u001b[0m\u001b[1;33m(\u001b[0m\u001b[1;33m)\u001b[0m\u001b[1;33m\u001b[0m\u001b[1;33m\u001b[0m\u001b[0m\n",
      "\u001b[1;32m~\\AppData\\Roaming\\Python\\Python38\\site-packages\\tensorflow\\python\\util\\traceback_utils.py\u001b[0m in \u001b[0;36merror_handler\u001b[1;34m(*args, **kwargs)\u001b[0m\n\u001b[0;32m    148\u001b[0m     \u001b[0mfiltered_tb\u001b[0m \u001b[1;33m=\u001b[0m \u001b[1;32mNone\u001b[0m\u001b[1;33m\u001b[0m\u001b[1;33m\u001b[0m\u001b[0m\n\u001b[0;32m    149\u001b[0m     \u001b[1;32mtry\u001b[0m\u001b[1;33m:\u001b[0m\u001b[1;33m\u001b[0m\u001b[1;33m\u001b[0m\u001b[0m\n\u001b[1;32m--> 150\u001b[1;33m       \u001b[1;32mreturn\u001b[0m \u001b[0mfn\u001b[0m\u001b[1;33m(\u001b[0m\u001b[1;33m*\u001b[0m\u001b[0margs\u001b[0m\u001b[1;33m,\u001b[0m \u001b[1;33m**\u001b[0m\u001b[0mkwargs\u001b[0m\u001b[1;33m)\u001b[0m\u001b[1;33m\u001b[0m\u001b[1;33m\u001b[0m\u001b[0m\n\u001b[0m\u001b[0;32m    151\u001b[0m     \u001b[1;32mexcept\u001b[0m \u001b[0mException\u001b[0m \u001b[1;32mas\u001b[0m \u001b[0me\u001b[0m\u001b[1;33m:\u001b[0m\u001b[1;33m\u001b[0m\u001b[1;33m\u001b[0m\u001b[0m\n\u001b[0;32m    152\u001b[0m       \u001b[0mfiltered_tb\u001b[0m \u001b[1;33m=\u001b[0m \u001b[0m_process_traceback_frames\u001b[0m\u001b[1;33m(\u001b[0m\u001b[0me\u001b[0m\u001b[1;33m.\u001b[0m\u001b[0m__traceback__\u001b[0m\u001b[1;33m)\u001b[0m\u001b[1;33m\u001b[0m\u001b[1;33m\u001b[0m\u001b[0m\n",
      "\u001b[1;32m~\\AppData\\Roaming\\Python\\Python38\\site-packages\\tensorflow\\python\\eager\\def_function.py\u001b[0m in \u001b[0;36m__call__\u001b[1;34m(self, *args, **kwds)\u001b[0m\n\u001b[0;32m    913\u001b[0m \u001b[1;33m\u001b[0m\u001b[0m\n\u001b[0;32m    914\u001b[0m       \u001b[1;32mwith\u001b[0m \u001b[0mOptionalXlaContext\u001b[0m\u001b[1;33m(\u001b[0m\u001b[0mself\u001b[0m\u001b[1;33m.\u001b[0m\u001b[0m_jit_compile\u001b[0m\u001b[1;33m)\u001b[0m\u001b[1;33m:\u001b[0m\u001b[1;33m\u001b[0m\u001b[1;33m\u001b[0m\u001b[0m\n\u001b[1;32m--> 915\u001b[1;33m         \u001b[0mresult\u001b[0m \u001b[1;33m=\u001b[0m \u001b[0mself\u001b[0m\u001b[1;33m.\u001b[0m\u001b[0m_call\u001b[0m\u001b[1;33m(\u001b[0m\u001b[1;33m*\u001b[0m\u001b[0margs\u001b[0m\u001b[1;33m,\u001b[0m \u001b[1;33m**\u001b[0m\u001b[0mkwds\u001b[0m\u001b[1;33m)\u001b[0m\u001b[1;33m\u001b[0m\u001b[1;33m\u001b[0m\u001b[0m\n\u001b[0m\u001b[0;32m    916\u001b[0m \u001b[1;33m\u001b[0m\u001b[0m\n\u001b[0;32m    917\u001b[0m       \u001b[0mnew_tracing_count\u001b[0m \u001b[1;33m=\u001b[0m \u001b[0mself\u001b[0m\u001b[1;33m.\u001b[0m\u001b[0mexperimental_get_tracing_count\u001b[0m\u001b[1;33m(\u001b[0m\u001b[1;33m)\u001b[0m\u001b[1;33m\u001b[0m\u001b[1;33m\u001b[0m\u001b[0m\n",
      "\u001b[1;32m~\\AppData\\Roaming\\Python\\Python38\\site-packages\\tensorflow\\python\\eager\\def_function.py\u001b[0m in \u001b[0;36m_call\u001b[1;34m(self, *args, **kwds)\u001b[0m\n\u001b[0;32m    952\u001b[0m       \u001b[1;31m# In this case we have not created variables on the first call. So we can\u001b[0m\u001b[1;33m\u001b[0m\u001b[1;33m\u001b[0m\u001b[1;33m\u001b[0m\u001b[0m\n\u001b[0;32m    953\u001b[0m       \u001b[1;31m# run the first trace but we should fail if variables are created.\u001b[0m\u001b[1;33m\u001b[0m\u001b[1;33m\u001b[0m\u001b[1;33m\u001b[0m\u001b[0m\n\u001b[1;32m--> 954\u001b[1;33m       \u001b[0mresults\u001b[0m \u001b[1;33m=\u001b[0m \u001b[0mself\u001b[0m\u001b[1;33m.\u001b[0m\u001b[0m_stateful_fn\u001b[0m\u001b[1;33m(\u001b[0m\u001b[1;33m*\u001b[0m\u001b[0margs\u001b[0m\u001b[1;33m,\u001b[0m \u001b[1;33m**\u001b[0m\u001b[0mkwds\u001b[0m\u001b[1;33m)\u001b[0m\u001b[1;33m\u001b[0m\u001b[1;33m\u001b[0m\u001b[0m\n\u001b[0m\u001b[0;32m    955\u001b[0m       \u001b[1;32mif\u001b[0m \u001b[0mself\u001b[0m\u001b[1;33m.\u001b[0m\u001b[0m_created_variables\u001b[0m \u001b[1;32mand\u001b[0m \u001b[1;32mnot\u001b[0m \u001b[0mALLOW_DYNAMIC_VARIABLE_CREATION\u001b[0m\u001b[1;33m:\u001b[0m\u001b[1;33m\u001b[0m\u001b[1;33m\u001b[0m\u001b[0m\n\u001b[0;32m    956\u001b[0m         raise ValueError(\"Creating variables on a non-first call to a function\"\n",
      "\u001b[1;32m~\\AppData\\Roaming\\Python\\Python38\\site-packages\\tensorflow\\python\\eager\\function.py\u001b[0m in \u001b[0;36m__call__\u001b[1;34m(self, *args, **kwargs)\u001b[0m\n\u001b[0;32m   2954\u001b[0m       (graph_function,\n\u001b[0;32m   2955\u001b[0m        filtered_flat_args) = self._maybe_define_function(args, kwargs)\n\u001b[1;32m-> 2956\u001b[1;33m     return graph_function._call_flat(\n\u001b[0m\u001b[0;32m   2957\u001b[0m         filtered_flat_args, captured_inputs=graph_function.captured_inputs)  # pylint: disable=protected-access\n\u001b[0;32m   2958\u001b[0m \u001b[1;33m\u001b[0m\u001b[0m\n",
      "\u001b[1;32m~\\AppData\\Roaming\\Python\\Python38\\site-packages\\tensorflow\\python\\eager\\function.py\u001b[0m in \u001b[0;36m_call_flat\u001b[1;34m(self, args, captured_inputs, cancellation_manager)\u001b[0m\n\u001b[0;32m   1851\u001b[0m         and executing_eagerly):\n\u001b[0;32m   1852\u001b[0m       \u001b[1;31m# No tape is watching; skip to running the function.\u001b[0m\u001b[1;33m\u001b[0m\u001b[1;33m\u001b[0m\u001b[1;33m\u001b[0m\u001b[0m\n\u001b[1;32m-> 1853\u001b[1;33m       return self._build_call_outputs(self._inference_function.call(\n\u001b[0m\u001b[0;32m   1854\u001b[0m           ctx, args, cancellation_manager=cancellation_manager))\n\u001b[0;32m   1855\u001b[0m     forward_backward = self._select_forward_and_backward_functions(\n",
      "\u001b[1;32m~\\AppData\\Roaming\\Python\\Python38\\site-packages\\tensorflow\\python\\eager\\function.py\u001b[0m in \u001b[0;36mcall\u001b[1;34m(self, ctx, args, cancellation_manager)\u001b[0m\n\u001b[0;32m    497\u001b[0m       \u001b[1;32mwith\u001b[0m \u001b[0m_InterpolateFunctionError\u001b[0m\u001b[1;33m(\u001b[0m\u001b[0mself\u001b[0m\u001b[1;33m)\u001b[0m\u001b[1;33m:\u001b[0m\u001b[1;33m\u001b[0m\u001b[1;33m\u001b[0m\u001b[0m\n\u001b[0;32m    498\u001b[0m         \u001b[1;32mif\u001b[0m \u001b[0mcancellation_manager\u001b[0m \u001b[1;32mis\u001b[0m \u001b[1;32mNone\u001b[0m\u001b[1;33m:\u001b[0m\u001b[1;33m\u001b[0m\u001b[1;33m\u001b[0m\u001b[0m\n\u001b[1;32m--> 499\u001b[1;33m           outputs = execute.execute(\n\u001b[0m\u001b[0;32m    500\u001b[0m               \u001b[0mstr\u001b[0m\u001b[1;33m(\u001b[0m\u001b[0mself\u001b[0m\u001b[1;33m.\u001b[0m\u001b[0msignature\u001b[0m\u001b[1;33m.\u001b[0m\u001b[0mname\u001b[0m\u001b[1;33m)\u001b[0m\u001b[1;33m,\u001b[0m\u001b[1;33m\u001b[0m\u001b[1;33m\u001b[0m\u001b[0m\n\u001b[0;32m    501\u001b[0m               \u001b[0mnum_outputs\u001b[0m\u001b[1;33m=\u001b[0m\u001b[0mself\u001b[0m\u001b[1;33m.\u001b[0m\u001b[0m_num_outputs\u001b[0m\u001b[1;33m,\u001b[0m\u001b[1;33m\u001b[0m\u001b[1;33m\u001b[0m\u001b[0m\n",
      "\u001b[1;32m~\\AppData\\Roaming\\Python\\Python38\\site-packages\\tensorflow\\python\\eager\\execute.py\u001b[0m in \u001b[0;36mquick_execute\u001b[1;34m(op_name, num_outputs, inputs, attrs, ctx, name)\u001b[0m\n\u001b[0;32m     52\u001b[0m   \u001b[1;32mtry\u001b[0m\u001b[1;33m:\u001b[0m\u001b[1;33m\u001b[0m\u001b[1;33m\u001b[0m\u001b[0m\n\u001b[0;32m     53\u001b[0m     \u001b[0mctx\u001b[0m\u001b[1;33m.\u001b[0m\u001b[0mensure_initialized\u001b[0m\u001b[1;33m(\u001b[0m\u001b[1;33m)\u001b[0m\u001b[1;33m\u001b[0m\u001b[1;33m\u001b[0m\u001b[0m\n\u001b[1;32m---> 54\u001b[1;33m     tensors = pywrap_tfe.TFE_Py_Execute(ctx._handle, device_name, op_name,\n\u001b[0m\u001b[0;32m     55\u001b[0m                                         inputs, attrs, num_outputs)\n\u001b[0;32m     56\u001b[0m   \u001b[1;32mexcept\u001b[0m \u001b[0mcore\u001b[0m\u001b[1;33m.\u001b[0m\u001b[0m_NotOkStatusException\u001b[0m \u001b[1;32mas\u001b[0m \u001b[0me\u001b[0m\u001b[1;33m:\u001b[0m\u001b[1;33m\u001b[0m\u001b[1;33m\u001b[0m\u001b[0m\n",
      "\u001b[1;31mKeyboardInterrupt\u001b[0m: "
     ]
    }
   ],
   "source": [
    "history_loss = {}\n",
    "for opt_name, opt_ in opt_json.items():\n",
    "    print(f'===== {opt_name} In Training =====')\n",
    "    early_stop = tf.keras.callbacks.EarlyStopping(monitor='val_loss', patience=10)\n",
    "    reduce_lr = tf.keras.callbacks.ReduceLROnPlateau(monitor='val_loss', factor=0.6,\n",
    "                                                     patience=5, min_lr=0.0001, verbose=1)\n",
    "\n",
    "    best_hps = tuner.get_best_hyperparameters(num_trials=1)[0]\n",
    "    model = tuner.hypermodel.build(best_hps)\n",
    "    model.compile(optimizer=opt_, loss=tf.keras.losses.MeanSquaredError())\n",
    "    history = model.fit(dt_train, validation_data=dt_val, epochs=15,\n",
    "                        callbacks=[reduce_lr, early_stop])\n",
    "    history_loss.update({\n",
    "        opt_name:history.history['val_loss']\n",
    "    })\n",
    "    print('\\n\\n\\n')"
   ]
  },
  {
   "cell_type": "code",
   "execution_count": 32,
   "id": "3d00c667",
   "metadata": {},
   "outputs": [
    {
     "data": {
      "image/png": "[encoded data removed]",
      "text/plain": [
       "<Figure size 1260x720 with 1 Axes>"
      ]
     },
     "metadata": {
      "needs_background": "light"
     },
     "output_type": "display_data"
    }
   ],
   "source": [
    "plt.figure(figsize=(17.5,10))\n",
    "\n",
    "for opt_name, losses in history_loss.items():\n",
    "    plt.plot(losses[5:], label=opt_name)\n",
    "    \n",
    "plt.grid()\n",
    "plt.legend(prop={'size':18})\n",
    "plt.show()"
   ]
  },
  {
   "cell_type": "code",
   "execution_count": 35,
   "id": "cc76295b",
   "metadata": {},
   "outputs": [],
   "source": [
    "best_opt = tfa.optimizers.LazyAdam()\n",
    "LA_opt_1 = tfa.optimizers.Lookahead(best_opt, sync_period=5, slow_step_size=.5)\n",
    "LA_opt_2 = tfa.optimizers.Lookahead(best_opt, sync_period=5, slow_step_size=.8)\n",
    "LA_opt_3 = tfa.optimizers.Lookahead(best_opt, sync_period=10, slow_step_size=.5)\n",
    "LA_opt_4 = tfa.optimizers.Lookahead(best_opt, sync_period=10, slow_step_size=.8)\n",
    "\n",
    "LA_opt_json = {\n",
    "    'Baseline':best_opt,\n",
    "    'α=.5, k=5':LA_opt_1,\n",
    "    'α=.8, k=5':LA_opt_2,\n",
    "    'α=.5, k=10':LA_opt_3,\n",
    "    'α=.8, k=10':LA_opt_4,\n",
    "}"
   ]
  },
  {
   "cell_type": "code",
   "execution_count": 36,
   "id": "0768ca94",
   "metadata": {
    "scrolled": true
   },
   "outputs": [
    {
     "name": "stdout",
     "output_type": "stream",
     "text": [
      "===== α=.5, k=5 In Training =====\n",
      "Epoch 1/50\n",
      "805/805 [==============================] - 57s 65ms/step - loss: 1.0143 - val_loss: 0.3076 - lr: 0.0010\n",
      "Epoch 2/50\n",
      "805/805 [==============================] - 52s 64ms/step - loss: 0.2626 - val_loss: 0.1451 - lr: 0.0010\n",
      "Epoch 3/50\n",
      "805/805 [==============================] - 52s 64ms/step - loss: 0.1824 - val_loss: 0.1302 - lr: 0.0010\n",
      "Epoch 4/50\n",
      "805/805 [==============================] - 52s 64ms/step - loss: 0.1467 - val_loss: 0.1017 - lr: 0.0010\n",
      "Epoch 5/50\n",
      "805/805 [==============================] - 52s 64ms/step - loss: 0.1135 - val_loss: 0.0961 - lr: 0.0010\n",
      "Epoch 6/50\n",
      "805/805 [==============================] - 52s 64ms/step - loss: 0.0892 - val_loss: 0.0831 - lr: 0.0010\n",
      "Epoch 7/50\n",
      "805/805 [==============================] - 52s 64ms/step - loss: 0.0711 - val_loss: 0.0819 - lr: 0.0010\n",
      "Epoch 8/50\n",
      "805/805 [==============================] - 52s 64ms/step - loss: 0.0645 - val_loss: 0.0751 - lr: 0.0010\n",
      "Epoch 9/50\n",
      "805/805 [==============================] - 52s 64ms/step - loss: 0.0613 - val_loss: 0.0899 - lr: 0.0010\n",
      "Epoch 10/50\n",
      "805/805 [==============================] - 52s 64ms/step - loss: 0.0622 - val_loss: 0.0746 - lr: 0.0010\n",
      "Epoch 11/50\n",
      "805/805 [==============================] - 52s 64ms/step - loss: 0.0600 - val_loss: 0.0792 - lr: 0.0010\n",
      "Epoch 12/50\n",
      "805/805 [==============================] - 52s 64ms/step - loss: 0.0590 - val_loss: 0.0693 - lr: 0.0010\n",
      "Epoch 13/50\n",
      "805/805 [==============================] - 52s 64ms/step - loss: 0.0574 - val_loss: 0.0807 - lr: 0.0010\n",
      "Epoch 14/50\n",
      "805/805 [==============================] - 52s 64ms/step - loss: 0.0566 - val_loss: 0.0833 - lr: 0.0010\n",
      "Epoch 15/50\n",
      "805/805 [==============================] - 52s 64ms/step - loss: 0.0538 - val_loss: 0.0699 - lr: 0.0010\n",
      "Epoch 16/50\n",
      "805/805 [==============================] - 52s 64ms/step - loss: 0.0531 - val_loss: 0.0795 - lr: 0.0010\n",
      "Epoch 17/50\n",
      "805/805 [==============================] - ETA: 0s - loss: 0.0504\n",
      "Epoch 17: ReduceLROnPlateau reducing learning rate to 0.0006000000284984708.\n",
      "805/805 [==============================] - 52s 64ms/step - loss: 0.0504 - val_loss: 0.0782 - lr: 0.0010\n",
      "Epoch 18/50\n",
      "805/805 [==============================] - 52s 64ms/step - loss: 0.0460 - val_loss: 0.0725 - lr: 6.0000e-04\n",
      "Epoch 19/50\n",
      "805/805 [==============================] - 52s 64ms/step - loss: 0.0449 - val_loss: 0.0688 - lr: 6.0000e-04\n",
      "Epoch 20/50\n",
      "805/805 [==============================] - 52s 64ms/step - loss: 0.0437 - val_loss: 0.0696 - lr: 6.0000e-04\n",
      "Epoch 21/50\n",
      "805/805 [==============================] - 52s 64ms/step - loss: 0.0432 - val_loss: 0.0599 - lr: 6.0000e-04\n",
      "Epoch 22/50\n",
      "805/805 [==============================] - 52s 64ms/step - loss: 0.0426 - val_loss: 0.0734 - lr: 6.0000e-04\n",
      "Epoch 23/50\n",
      "805/805 [==============================] - 52s 64ms/step - loss: 0.0416 - val_loss: 0.0729 - lr: 6.0000e-04\n",
      "Epoch 24/50\n",
      "805/805 [==============================] - 52s 64ms/step - loss: 0.0407 - val_loss: 0.0676 - lr: 6.0000e-04\n",
      "Epoch 25/50\n",
      "805/805 [==============================] - 52s 64ms/step - loss: 0.0405 - val_loss: 0.0790 - lr: 6.0000e-04\n",
      "Epoch 26/50\n",
      "805/805 [==============================] - 52s 64ms/step - loss: 0.0392 - val_loss: 0.0571 - lr: 6.0000e-04\n",
      "Epoch 27/50\n",
      "805/805 [==============================] - 52s 64ms/step - loss: 0.0391 - val_loss: 0.0991 - lr: 6.0000e-04\n",
      "Epoch 28/50\n",
      "805/805 [==============================] - 52s 64ms/step - loss: 0.0383 - val_loss: 0.0717 - lr: 6.0000e-04\n",
      "Epoch 29/50\n",
      "805/805 [==============================] - 52s 64ms/step - loss: 0.0381 - val_loss: 0.0828 - lr: 6.0000e-04\n",
      "Epoch 30/50\n",
      "805/805 [==============================] - 52s 64ms/step - loss: 0.0369 - val_loss: 0.0623 - lr: 6.0000e-04\n",
      "Epoch 31/50\n",
      "805/805 [==============================] - ETA: 0s - loss: 0.0367\n",
      "Epoch 31: ReduceLROnPlateau reducing learning rate to 0.0003600000170990825.\n",
      "805/805 [==============================] - 52s 64ms/step - loss: 0.0367 - val_loss: 0.0600 - lr: 6.0000e-04\n",
      "Epoch 32/50\n",
      "805/805 [==============================] - 52s 64ms/step - loss: 0.0340 - val_loss: 0.0609 - lr: 3.6000e-04\n",
      "Epoch 33/50\n",
      "805/805 [==============================] - 52s 64ms/step - loss: 0.0333 - val_loss: 0.0596 - lr: 3.6000e-04\n",
      "Epoch 34/50\n",
      "805/805 [==============================] - 52s 64ms/step - loss: 0.0330 - val_loss: 0.0588 - lr: 3.6000e-04\n",
      "Epoch 35/50\n",
      "805/805 [==============================] - 52s 64ms/step - loss: 0.0327 - val_loss: 0.0526 - lr: 3.6000e-04\n",
      "Epoch 36/50\n",
      "805/805 [==============================] - 52s 64ms/step - loss: 0.0317 - val_loss: 0.0566 - lr: 3.6000e-04\n",
      "Epoch 37/50\n",
      "805/805 [==============================] - 52s 64ms/step - loss: 0.0314 - val_loss: 0.0745 - lr: 3.6000e-04\n",
      "Epoch 38/50\n",
      "805/805 [==============================] - 52s 64ms/step - loss: 0.0309 - val_loss: 0.0564 - lr: 3.6000e-04\n",
      "Epoch 39/50\n",
      "805/805 [==============================] - 52s 64ms/step - loss: 0.0312 - val_loss: 0.0985 - lr: 3.6000e-04\n",
      "Epoch 40/50\n",
      "805/805 [==============================] - ETA: 0s - loss: 0.0304\n",
      "Epoch 40: ReduceLROnPlateau reducing learning rate to 0.00021600000327453016.\n",
      "805/805 [==============================] - 52s 64ms/step - loss: 0.0304 - val_loss: 0.0603 - lr: 3.6000e-04\n",
      "Epoch 41/50\n",
      "805/805 [==============================] - 52s 64ms/step - loss: 0.0289 - val_loss: 0.0514 - lr: 2.1600e-04\n",
      "Epoch 42/50\n",
      "805/805 [==============================] - 52s 64ms/step - loss: 0.0286 - val_loss: 0.0522 - lr: 2.1600e-04\n",
      "Epoch 43/50\n",
      "805/805 [==============================] - 52s 64ms/step - loss: 0.0282 - val_loss: 0.0663 - lr: 2.1600e-04\n",
      "Epoch 44/50\n",
      "805/805 [==============================] - 52s 64ms/step - loss: 0.0281 - val_loss: 0.0528 - lr: 2.1600e-04\n",
      "Epoch 45/50\n",
      "805/805 [==============================] - 52s 64ms/step - loss: 0.0276 - val_loss: 0.0568 - lr: 2.1600e-04\n",
      "Epoch 46/50\n",
      "805/805 [==============================] - ETA: 0s - loss: 0.0273\n",
      "Epoch 46: ReduceLROnPlateau reducing learning rate to 0.00012960000021848827.\n",
      "805/805 [==============================] - 52s 64ms/step - loss: 0.0273 - val_loss: 0.0586 - lr: 2.1600e-04\n",
      "Epoch 47/50\n",
      "805/805 [==============================] - 52s 64ms/step - loss: 0.0266 - val_loss: 0.0526 - lr: 1.2960e-04\n",
      "Epoch 48/50\n",
      "805/805 [==============================] - 52s 64ms/step - loss: 0.0261 - val_loss: 0.0509 - lr: 1.2960e-04\n",
      "Epoch 49/50\n",
      "805/805 [==============================] - 52s 64ms/step - loss: 0.0263 - val_loss: 0.0476 - lr: 1.2960e-04\n",
      "Epoch 50/50\n",
      "805/805 [==============================] - 52s 64ms/step - loss: 0.0258 - val_loss: 0.0510 - lr: 1.2960e-04\n",
      "===== α=.8, k=5 In Training =====\n",
      "Epoch 1/50\n",
      "805/805 [==============================] - 56s 65ms/step - loss: 1.2022 - val_loss: 1.1198 - lr: 1.2960e-04\n",
      "Epoch 2/50\n",
      "805/805 [==============================] - 52s 64ms/step - loss: 0.3605 - val_loss: 0.2593 - lr: 1.2960e-04\n",
      "Epoch 3/50\n",
      "805/805 [==============================] - 52s 64ms/step - loss: 0.2753 - val_loss: 0.1031 - lr: 1.2960e-04\n",
      "Epoch 4/50\n",
      "805/805 [==============================] - 52s 64ms/step - loss: 0.2402 - val_loss: 0.0979 - lr: 1.2960e-04\n",
      "Epoch 5/50\n",
      "805/805 [==============================] - 52s 64ms/step - loss: 0.2140 - val_loss: 0.1043 - lr: 1.2960e-04\n",
      "Epoch 6/50\n",
      "805/805 [==============================] - 52s 64ms/step - loss: 0.1891 - val_loss: 0.0984 - lr: 1.2960e-04\n",
      "Epoch 7/50\n",
      "805/805 [==============================] - 52s 64ms/step - loss: 0.1767 - val_loss: 0.0939 - lr: 1.2960e-04\n",
      "Epoch 8/50\n",
      "805/805 [==============================] - 52s 64ms/step - loss: 0.1628 - val_loss: 0.0995 - lr: 1.2960e-04\n",
      "Epoch 9/50\n",
      "805/805 [==============================] - 52s 64ms/step - loss: 0.1438 - val_loss: 0.0940 - lr: 1.2960e-04\n",
      "Epoch 10/50\n",
      "805/805 [==============================] - 52s 64ms/step - loss: 0.1348 - val_loss: 0.0947 - lr: 1.2960e-04\n",
      "Epoch 11/50\n",
      "805/805 [==============================] - 52s 64ms/step - loss: 0.1195 - val_loss: 0.1009 - lr: 1.2960e-04\n",
      "Epoch 12/50\n",
      "805/805 [==============================] - 52s 64ms/step - loss: 0.1086 - val_loss: 0.0842 - lr: 1.2960e-04\n",
      "Epoch 13/50\n",
      "805/805 [==============================] - 52s 64ms/step - loss: 0.1004 - val_loss: 0.0923 - lr: 1.2960e-04\n",
      "Epoch 14/50\n",
      "805/805 [==============================] - 52s 64ms/step - loss: 0.0895 - val_loss: 0.0920 - lr: 1.2960e-04\n",
      "Epoch 15/50\n",
      "805/805 [==============================] - 52s 64ms/step - loss: 0.0826 - val_loss: 0.0957 - lr: 1.2960e-04\n",
      "Epoch 16/50\n",
      "805/805 [==============================] - 52s 64ms/step - loss: 0.0736 - val_loss: 0.0876 - lr: 1.2960e-04\n",
      "Epoch 17/50\n",
      "805/805 [==============================] - 52s 64ms/step - loss: 0.0675 - val_loss: 0.0772 - lr: 1.2960e-04\n",
      "Epoch 18/50\n",
      "805/805 [==============================] - 52s 64ms/step - loss: 0.0618 - val_loss: 0.0720 - lr: 1.2960e-04\n",
      "Epoch 19/50\n",
      "805/805 [==============================] - 52s 64ms/step - loss: 0.0575 - val_loss: 0.0719 - lr: 1.2960e-04\n",
      "Epoch 20/50\n",
      "805/805 [==============================] - 52s 64ms/step - loss: 0.0554 - val_loss: 0.0814 - lr: 1.2960e-04\n",
      "Epoch 21/50\n",
      "805/805 [==============================] - 52s 64ms/step - loss: 0.0535 - val_loss: 0.0931 - lr: 1.2960e-04\n",
      "Epoch 22/50\n",
      "805/805 [==============================] - 52s 64ms/step - loss: 0.0518 - val_loss: 0.0761 - lr: 1.2960e-04\n",
      "Epoch 23/50\n",
      "805/805 [==============================] - ETA: 0s - loss: 0.0517\n",
      "Epoch 23: ReduceLROnPlateau reducing learning rate to 0.0001.\n",
      "805/805 [==============================] - 51s 64ms/step - loss: 0.0517 - val_loss: 0.0746 - lr: 1.2960e-04\n",
      "Epoch 24/50\n",
      "805/805 [==============================] - 52s 64ms/step - loss: 0.0493 - val_loss: 0.0737 - lr: 1.0000e-04\n",
      "Epoch 25/50\n",
      "805/805 [==============================] - 51s 64ms/step - loss: 0.0481 - val_loss: 0.0777 - lr: 1.0000e-04\n",
      "Epoch 26/50\n",
      "805/805 [==============================] - 52s 64ms/step - loss: 0.0483 - val_loss: 0.0798 - lr: 1.0000e-04\n",
      "Epoch 27/50\n",
      "805/805 [==============================] - 52s 64ms/step - loss: 0.0474 - val_loss: 0.0745 - lr: 1.0000e-04\n",
      "Epoch 28/50\n",
      "805/805 [==============================] - 52s 64ms/step - loss: 0.0464 - val_loss: 0.0934 - lr: 1.0000e-04\n",
      "Epoch 29/50\n",
      "805/805 [==============================] - 51s 64ms/step - loss: 0.0458 - val_loss: 0.0893 - lr: 1.0000e-04\n",
      "===== α=.5, k=10 In Training =====\n",
      "Epoch 1/50\n",
      "805/805 [==============================] - 56s 65ms/step - loss: 1.6043 - val_loss: 0.1679 - lr: 1.0000e-04\n",
      "Epoch 2/50\n",
      "805/805 [==============================] - 52s 64ms/step - loss: 0.4712 - val_loss: 0.6135 - lr: 1.0000e-04\n",
      "Epoch 3/50\n",
      "805/805 [==============================] - 52s 64ms/step - loss: 0.3503 - val_loss: 0.3746 - lr: 1.0000e-04\n",
      "Epoch 4/50\n",
      "805/805 [==============================] - 52s 64ms/step - loss: 0.2974 - val_loss: 0.1986 - lr: 1.0000e-04\n",
      "Epoch 5/50\n",
      "805/805 [==============================] - 52s 64ms/step - loss: 0.2637 - val_loss: 0.1081 - lr: 1.0000e-04\n",
      "Epoch 6/50\n",
      "805/805 [==============================] - 52s 64ms/step - loss: 0.2505 - val_loss: 0.1021 - lr: 1.0000e-04\n",
      "Epoch 7/50\n",
      "805/805 [==============================] - 52s 64ms/step - loss: 0.2207 - val_loss: 0.0994 - lr: 1.0000e-04\n",
      "Epoch 8/50\n",
      "805/805 [==============================] - 52s 64ms/step - loss: 0.2059 - val_loss: 0.1289 - lr: 1.0000e-04\n",
      "Epoch 9/50\n",
      "805/805 [==============================] - 52s 64ms/step - loss: 0.2006 - val_loss: 0.0990 - lr: 1.0000e-04\n",
      "Epoch 10/50\n",
      "805/805 [==============================] - 52s 64ms/step - loss: 0.1826 - val_loss: 0.0955 - lr: 1.0000e-04\n",
      "Epoch 11/50\n",
      "805/805 [==============================] - 52s 64ms/step - loss: 0.1727 - val_loss: 0.1404 - lr: 1.0000e-04\n",
      "Epoch 12/50\n",
      "805/805 [==============================] - 52s 64ms/step - loss: 0.1678 - val_loss: 0.0916 - lr: 1.0000e-04\n",
      "Epoch 13/50\n",
      "805/805 [==============================] - 52s 64ms/step - loss: 0.1562 - val_loss: 0.0891 - lr: 1.0000e-04\n",
      "Epoch 14/50\n",
      "805/805 [==============================] - 52s 64ms/step - loss: 0.1523 - val_loss: 0.0888 - lr: 1.0000e-04\n",
      "Epoch 15/50\n",
      "805/805 [==============================] - 52s 64ms/step - loss: 0.1400 - val_loss: 0.0979 - lr: 1.0000e-04\n",
      "Epoch 16/50\n",
      "805/805 [==============================] - 52s 64ms/step - loss: 0.1332 - val_loss: 0.0939 - lr: 1.0000e-04\n",
      "Epoch 17/50\n",
      "805/805 [==============================] - 52s 64ms/step - loss: 0.1290 - val_loss: 0.0945 - lr: 1.0000e-04\n",
      "Epoch 18/50\n",
      "805/805 [==============================] - 52s 64ms/step - loss: 0.1219 - val_loss: 0.0832 - lr: 1.0000e-04\n",
      "Epoch 19/50\n",
      "805/805 [==============================] - 52s 64ms/step - loss: 0.1141 - val_loss: 0.1013 - lr: 1.0000e-04\n",
      "Epoch 20/50\n",
      "805/805 [==============================] - 52s 64ms/step - loss: 0.1071 - val_loss: 0.0834 - lr: 1.0000e-04\n",
      "Epoch 21/50\n",
      "805/805 [==============================] - 52s 64ms/step - loss: 0.1033 - val_loss: 0.0884 - lr: 1.0000e-04\n",
      "Epoch 22/50\n",
      "805/805 [==============================] - 52s 64ms/step - loss: 0.0975 - val_loss: 0.0829 - lr: 1.0000e-04\n",
      "Epoch 23/50\n",
      "805/805 [==============================] - 52s 64ms/step - loss: 0.0915 - val_loss: 0.0895 - lr: 1.0000e-04\n",
      "Epoch 24/50\n",
      "805/805 [==============================] - 52s 64ms/step - loss: 0.0862 - val_loss: 0.0816 - lr: 1.0000e-04\n",
      "Epoch 25/50\n",
      "805/805 [==============================] - 52s 64ms/step - loss: 0.0815 - val_loss: 0.1025 - lr: 1.0000e-04\n",
      "Epoch 26/50\n",
      "805/805 [==============================] - 52s 64ms/step - loss: 0.0774 - val_loss: 0.0766 - lr: 1.0000e-04\n",
      "Epoch 27/50\n",
      "805/805 [==============================] - 52s 64ms/step - loss: 0.0735 - val_loss: 0.0851 - lr: 1.0000e-04\n",
      "Epoch 28/50\n",
      "805/805 [==============================] - 52s 64ms/step - loss: 0.0699 - val_loss: 0.0814 - lr: 1.0000e-04\n",
      "Epoch 29/50\n",
      "805/805 [==============================] - 52s 64ms/step - loss: 0.0649 - val_loss: 0.0913 - lr: 1.0000e-04\n",
      "Epoch 30/50\n",
      "805/805 [==============================] - 52s 64ms/step - loss: 0.0626 - val_loss: 0.0826 - lr: 1.0000e-04\n",
      "Epoch 31/50\n",
      "805/805 [==============================] - 52s 64ms/step - loss: 0.0595 - val_loss: 0.0743 - lr: 1.0000e-04\n",
      "Epoch 32/50\n",
      "805/805 [==============================] - 52s 64ms/step - loss: 0.0571 - val_loss: 0.0726 - lr: 1.0000e-04\n",
      "Epoch 33/50\n",
      "805/805 [==============================] - 52s 64ms/step - loss: 0.0559 - val_loss: 0.0811 - lr: 1.0000e-04\n",
      "Epoch 34/50\n",
      "805/805 [==============================] - 52s 64ms/step - loss: 0.0541 - val_loss: 0.0768 - lr: 1.0000e-04\n",
      "Epoch 35/50\n",
      "805/805 [==============================] - 52s 64ms/step - loss: 0.0529 - val_loss: 0.0813 - lr: 1.0000e-04\n",
      "Epoch 36/50\n",
      "805/805 [==============================] - 52s 64ms/step - loss: 0.0518 - val_loss: 0.0803 - lr: 1.0000e-04\n",
      "Epoch 37/50\n",
      "805/805 [==============================] - 52s 64ms/step - loss: 0.0510 - val_loss: 0.0879 - lr: 1.0000e-04\n",
      "Epoch 38/50\n",
      "805/805 [==============================] - 52s 64ms/step - loss: 0.0505 - val_loss: 0.0688 - lr: 1.0000e-04\n",
      "Epoch 39/50\n",
      "805/805 [==============================] - 52s 65ms/step - loss: 0.0494 - val_loss: 0.0765 - lr: 1.0000e-04\n",
      "Epoch 40/50\n",
      "805/805 [==============================] - 52s 64ms/step - loss: 0.0492 - val_loss: 0.0736 - lr: 1.0000e-04\n",
      "Epoch 41/50\n",
      "805/805 [==============================] - 52s 64ms/step - loss: 0.0485 - val_loss: 0.0749 - lr: 1.0000e-04\n",
      "Epoch 42/50\n",
      "805/805 [==============================] - 52s 64ms/step - loss: 0.0479 - val_loss: 0.0804 - lr: 1.0000e-04\n",
      "Epoch 43/50\n",
      "805/805 [==============================] - 52s 64ms/step - loss: 0.0479 - val_loss: 0.0777 - lr: 1.0000e-04\n",
      "Epoch 44/50\n",
      "805/805 [==============================] - 52s 64ms/step - loss: 0.0474 - val_loss: 0.0708 - lr: 1.0000e-04\n",
      "Epoch 45/50\n",
      "805/805 [==============================] - 52s 64ms/step - loss: 0.0472 - val_loss: 0.0813 - lr: 1.0000e-04\n",
      "Epoch 46/50\n",
      "805/805 [==============================] - 52s 64ms/step - loss: 0.0460 - val_loss: 0.0723 - lr: 1.0000e-04\n",
      "Epoch 47/50\n",
      "805/805 [==============================] - 52s 64ms/step - loss: 0.0460 - val_loss: 0.0783 - lr: 1.0000e-04\n",
      "Epoch 48/50\n",
      "805/805 [==============================] - 52s 64ms/step - loss: 0.0454 - val_loss: 0.0741 - lr: 1.0000e-04\n",
      "===== α=.8, k=10 In Training =====\n",
      "Epoch 1/50\n",
      "805/805 [==============================] - 56s 65ms/step - loss: 1.4150 - val_loss: 0.2177 - lr: 1.0000e-04\n",
      "Epoch 2/50\n",
      "805/805 [==============================] - 52s 64ms/step - loss: 0.3689 - val_loss: 0.1318 - lr: 1.0000e-04\n",
      "Epoch 3/50\n",
      "805/805 [==============================] - 52s 64ms/step - loss: 0.2964 - val_loss: 0.1549 - lr: 1.0000e-04\n"
     ]
    },
    {
     "name": "stdout",
     "output_type": "stream",
     "text": [
      "Epoch 4/50\n",
      "805/805 [==============================] - 52s 64ms/step - loss: 0.2598 - val_loss: 0.1155 - lr: 1.0000e-04\n",
      "Epoch 5/50\n",
      "805/805 [==============================] - 52s 64ms/step - loss: 0.2222 - val_loss: 0.1331 - lr: 1.0000e-04\n",
      "Epoch 6/50\n",
      "805/805 [==============================] - 52s 64ms/step - loss: 0.1970 - val_loss: 0.1388 - lr: 1.0000e-04\n",
      "Epoch 7/50\n",
      "805/805 [==============================] - 52s 64ms/step - loss: 0.1886 - val_loss: 0.1123 - lr: 1.0000e-04\n",
      "Epoch 8/50\n",
      "805/805 [==============================] - 51s 64ms/step - loss: 0.1780 - val_loss: 0.1077 - lr: 1.0000e-04\n",
      "Epoch 9/50\n",
      "805/805 [==============================] - 51s 64ms/step - loss: 0.1601 - val_loss: 0.0998 - lr: 1.0000e-04\n",
      "Epoch 10/50\n",
      "805/805 [==============================] - 51s 64ms/step - loss: 0.1496 - val_loss: 0.0971 - lr: 1.0000e-04\n",
      "Epoch 11/50\n",
      "805/805 [==============================] - 52s 64ms/step - loss: 0.1403 - val_loss: 0.0977 - lr: 1.0000e-04\n",
      "Epoch 12/50\n",
      "805/805 [==============================] - 52s 64ms/step - loss: 0.1306 - val_loss: 0.0891 - lr: 1.0000e-04\n",
      "Epoch 13/50\n",
      "805/805 [==============================] - 52s 64ms/step - loss: 0.1232 - val_loss: 0.0849 - lr: 1.0000e-04\n",
      "Epoch 14/50\n",
      "805/805 [==============================] - 51s 64ms/step - loss: 0.1140 - val_loss: 0.0852 - lr: 1.0000e-04\n",
      "Epoch 15/50\n",
      "805/805 [==============================] - 51s 64ms/step - loss: 0.1034 - val_loss: 0.0788 - lr: 1.0000e-04\n",
      "Epoch 16/50\n",
      "805/805 [==============================] - 52s 64ms/step - loss: 0.0986 - val_loss: 0.1090 - lr: 1.0000e-04\n",
      "Epoch 17/50\n",
      "805/805 [==============================] - 52s 64ms/step - loss: 0.0909 - val_loss: 0.0991 - lr: 1.0000e-04\n",
      "Epoch 18/50\n",
      "805/805 [==============================] - 52s 64ms/step - loss: 0.0820 - val_loss: 0.0812 - lr: 1.0000e-04\n",
      "Epoch 19/50\n",
      "805/805 [==============================] - 52s 64ms/step - loss: 0.0760 - val_loss: 0.0794 - lr: 1.0000e-04\n",
      "Epoch 20/50\n",
      "805/805 [==============================] - 52s 64ms/step - loss: 0.0700 - val_loss: 0.0838 - lr: 1.0000e-04\n",
      "Epoch 21/50\n",
      "805/805 [==============================] - 52s 64ms/step - loss: 0.0657 - val_loss: 0.0880 - lr: 1.0000e-04\n",
      "Epoch 22/50\n",
      "805/805 [==============================] - 52s 64ms/step - loss: 0.0609 - val_loss: 0.0801 - lr: 1.0000e-04\n",
      "Epoch 23/50\n",
      "805/805 [==============================] - 52s 64ms/step - loss: 0.0583 - val_loss: 0.0940 - lr: 1.0000e-04\n",
      "Epoch 24/50\n",
      "805/805 [==============================] - 52s 64ms/step - loss: 0.0560 - val_loss: 0.0916 - lr: 1.0000e-04\n",
      "Epoch 25/50\n",
      "805/805 [==============================] - 52s 64ms/step - loss: 0.0538 - val_loss: 0.0874 - lr: 1.0000e-04\n"
     ]
    }
   ],
   "source": [
    "LA_history_loss = {}\n",
    "for opt_name, opt_ in LA_opt_json.items():\n",
    "    early_stop = tf.keras.callbacks.EarlyStopping(monitor='val_loss', patience=10)\n",
    "    reduce_lr = tf.keras.callbacks.ReduceLROnPlateau(monitor='val_loss', factor=0.6,\n",
    "                                                     patience=5, min_lr=0.0001, verbose=1)\n",
    "    if opt_name=='Baseline':\n",
    "        continue\n",
    "    print(f'===== {opt_name} In Training =====')\n",
    "    best_hps = tuner.get_best_hyperparameters(num_trials=1)[0]\n",
    "    model = tuner.hypermodel.build(best_hps)\n",
    "    model.compile(optimizer=opt_, loss=tf.keras.losses.MeanSquaredError())\n",
    "    history = model.fit(dt_train, validation_data=dt_val, epochs=50,\n",
    "                        callbacks=[reduce_lr, early_stop])\n",
    "    LA_history_loss.update({\n",
    "        opt_name:history.history['val_loss']\n",
    "    })"
   ]
  },
  {
   "cell_type": "code",
   "execution_count": 37,
   "id": "2be7b787",
   "metadata": {},
   "outputs": [
    {
     "data": {
      "image/png": "[encoded data removed]",
      "text/plain": [
       "<Figure size 1260x720 with 1 Axes>"
      ]
     },
     "metadata": {
      "needs_background": "light"
     },
     "output_type": "display_data"
    }
   ],
   "source": [
    "plt.figure(figsize=(17.5,10))\n",
    "\n",
    "plt.plot(history_loss['Lazy Adam'][3:], label='Baseline')\n",
    "for opt_name, losses in LA_history_loss.items():\n",
    "    if opt_name=='Baseline':\n",
    "        continue\n",
    "    plt.plot(losses[3:], label=opt_name)\n",
    "#     plt.scatter()\n",
    "    \n",
    "plt.grid()\n",
    "plt.legend(prop={'size':18})\n",
    "plt.show()"
   ]
  },
  {
   "cell_type": "code",
   "execution_count": 11,
   "id": "bec07517",
   "metadata": {},
   "outputs": [
    {
     "data": {
      "text/plain": [
       "<keras.engine.sequential.Sequential at 0x17ea024ef40>"
      ]
     },
     "execution_count": 11,
     "metadata": {},
     "output_type": "execute_result"
    }
   ],
   "source": [
    "model"
   ]
  },
  {
   "cell_type": "code",
   "execution_count": 14,
   "id": "0684342c",
   "metadata": {
    "scrolled": true
   },
   "outputs": [
    {
     "name": "stdout",
     "output_type": "stream",
     "text": [
      "***** Epoch 0 *****\n",
      "Memory usage on epoch begin: 26.78GB\n",
      "Epoch 1/15\n",
      "   6/1972 [..............................] - ETA: 6:44 - loss: 12.5245WARNING:tensorflow:Callback method `on_train_batch_end` is slow compared to the batch time (batch time: 0.0934s vs `on_train_batch_end` time: 0.0939s). Check your callbacks.\n",
      "1972/1972 [==============================] - ETA: 0s - loss: 0.4753 - Memory usage on epoch end: 55.24GB\n"
     ]
    },
    {
     "name": "stderr",
     "output_type": "stream",
     "text": [
      "WARNING:absl:Found untraced functions such as gru_cell_2_layer_call_fn, gru_cell_2_layer_call_and_return_conditional_losses while saving (showing 2 of 2). These functions will not be directly callable after loading.\n"
     ]
    },
    {
     "name": "stdout",
     "output_type": "stream",
     "text": [
      "INFO:tensorflow:Assets written to: C:\\Users\\Zhafran\\Documents\\Data Science\\BANGKIT - Capstone - Earthquake\\Model Checkpoint\\v5 (S-Wave 1)\\Model Checkpoint Best\\Model_Epoch_1\\assets\n"
     ]
    },
    {
     "name": "stderr",
     "output_type": "stream",
     "text": [
      "INFO:tensorflow:Assets written to: C:\\Users\\Zhafran\\Documents\\Data Science\\BANGKIT - Capstone - Earthquake\\Model Checkpoint\\v5 (S-Wave 1)\\Model Checkpoint Best\\Model_Epoch_1\\assets\n",
      "WARNING:absl:<keras.layers.recurrent.GRUCell object at 0x000002A8877F0670> has the same name 'GRUCell' as a built-in Keras object. Consider renaming <class 'keras.layers.recurrent.GRUCell'> to avoid naming conflicts when loading with `tf.keras.models.load_model`. If renaming is not possible, pass the object in the `custom_objects` parameter of the load function.\n"
     ]
    },
    {
     "name": "stdout",
     "output_type": "stream",
     "text": [
      "1972/1972 [==============================] - 488s 241ms/step - loss: 0.4753 - val_loss: 0.1358 - lr: 0.0010\n",
      "***** Epoch 1 *****\n",
      "Memory usage on epoch begin: 55.37GB\n",
      "Epoch 2/15\n",
      "1972/1972 [==============================] - ETA: 0s - loss: 0.1232 - Memory usage on epoch end: 44.58GB\n"
     ]
    },
    {
     "name": "stderr",
     "output_type": "stream",
     "text": [
      "WARNING:absl:Found untraced functions such as gru_cell_2_layer_call_fn, gru_cell_2_layer_call_and_return_conditional_losses while saving (showing 2 of 2). These functions will not be directly callable after loading.\n"
     ]
    },
    {
     "name": "stdout",
     "output_type": "stream",
     "text": [
      "INFO:tensorflow:Assets written to: C:\\Users\\Zhafran\\Documents\\Data Science\\BANGKIT - Capstone - Earthquake\\Model Checkpoint\\v5 (S-Wave 1)\\Model Checkpoint Best\\Model_Epoch_2\\assets\n"
     ]
    },
    {
     "name": "stderr",
     "output_type": "stream",
     "text": [
      "INFO:tensorflow:Assets written to: C:\\Users\\Zhafran\\Documents\\Data Science\\BANGKIT - Capstone - Earthquake\\Model Checkpoint\\v5 (S-Wave 1)\\Model Checkpoint Best\\Model_Epoch_2\\assets\n",
      "WARNING:absl:<keras.layers.recurrent.GRUCell object at 0x000002A8877F0670> has the same name 'GRUCell' as a built-in Keras object. Consider renaming <class 'keras.layers.recurrent.GRUCell'> to avoid naming conflicts when loading with `tf.keras.models.load_model`. If renaming is not possible, pass the object in the `custom_objects` parameter of the load function.\n"
     ]
    },
    {
     "name": "stdout",
     "output_type": "stream",
     "text": [
      "1972/1972 [==============================] - 588s 298ms/step - loss: 0.1232 - val_loss: 0.0870 - lr: 0.0010\n",
      "***** Epoch 2 *****\n",
      "Memory usage on epoch begin: 44.69GB\n",
      "Epoch 3/15\n",
      "1972/1972 [==============================] - ETA: 0s - loss: 0.0645 - Memory usage on epoch end: 39.78GB\n",
      "1972/1972 [==============================] - 548s 278ms/step - loss: 0.0645 - val_loss: 0.0934 - lr: 0.0010\n",
      "***** Epoch 3 *****\n",
      "Memory usage on epoch begin: 39.78GB\n",
      "Epoch 4/15\n",
      "1972/1972 [==============================] - ETA: 0s - loss: 0.0513\n",
      "Epoch 4: ReduceLROnPlateau reducing learning rate to 0.0006000000284984708.\n",
      " - Memory usage on epoch end: 39.58GB\n",
      "1972/1972 [==============================] - 463s 235ms/step - loss: 0.0513 - val_loss: 0.0896 - lr: 0.0010\n",
      "***** Epoch 4 *****\n",
      "Memory usage on epoch begin: 39.58GB\n",
      "Epoch 5/15\n",
      "1972/1972 [==============================] - ETA: 0s - loss: 0.0448 - Memory usage on epoch end: 39.10GB\n"
     ]
    },
    {
     "name": "stderr",
     "output_type": "stream",
     "text": [
      "WARNING:absl:Found untraced functions such as gru_cell_2_layer_call_fn, gru_cell_2_layer_call_and_return_conditional_losses while saving (showing 2 of 2). These functions will not be directly callable after loading.\n"
     ]
    },
    {
     "name": "stdout",
     "output_type": "stream",
     "text": [
      "INFO:tensorflow:Assets written to: C:\\Users\\Zhafran\\Documents\\Data Science\\BANGKIT - Capstone - Earthquake\\Model Checkpoint\\v5 (S-Wave 1)\\Model Checkpoint Best\\Model_Epoch_5\\assets\n"
     ]
    },
    {
     "name": "stderr",
     "output_type": "stream",
     "text": [
      "INFO:tensorflow:Assets written to: C:\\Users\\Zhafran\\Documents\\Data Science\\BANGKIT - Capstone - Earthquake\\Model Checkpoint\\v5 (S-Wave 1)\\Model Checkpoint Best\\Model_Epoch_5\\assets\n",
      "WARNING:absl:<keras.layers.recurrent.GRUCell object at 0x000002A8877F0670> has the same name 'GRUCell' as a built-in Keras object. Consider renaming <class 'keras.layers.recurrent.GRUCell'> to avoid naming conflicts when loading with `tf.keras.models.load_model`. If renaming is not possible, pass the object in the `custom_objects` parameter of the load function.\n"
     ]
    },
    {
     "name": "stdout",
     "output_type": "stream",
     "text": [
      "1972/1972 [==============================] - 466s 236ms/step - loss: 0.0448 - val_loss: 0.0805 - lr: 6.0000e-04\n",
      "***** Epoch 5 *****\n",
      "Memory usage on epoch begin: 39.57GB\n",
      "Epoch 6/15\n",
      "1972/1972 [==============================] - ETA: 0s - loss: 0.0422 - Memory usage on epoch end: 39.57GB\n"
     ]
    },
    {
     "name": "stderr",
     "output_type": "stream",
     "text": [
      "WARNING:absl:Found untraced functions such as gru_cell_2_layer_call_fn, gru_cell_2_layer_call_and_return_conditional_losses while saving (showing 2 of 2). These functions will not be directly callable after loading.\n"
     ]
    },
    {
     "name": "stdout",
     "output_type": "stream",
     "text": [
      "INFO:tensorflow:Assets written to: C:\\Users\\Zhafran\\Documents\\Data Science\\BANGKIT - Capstone - Earthquake\\Model Checkpoint\\v5 (S-Wave 1)\\Model Checkpoint Best\\Model_Epoch_6\\assets\n"
     ]
    },
    {
     "name": "stderr",
     "output_type": "stream",
     "text": [
      "INFO:tensorflow:Assets written to: C:\\Users\\Zhafran\\Documents\\Data Science\\BANGKIT - Capstone - Earthquake\\Model Checkpoint\\v5 (S-Wave 1)\\Model Checkpoint Best\\Model_Epoch_6\\assets\n",
      "WARNING:absl:<keras.layers.recurrent.GRUCell object at 0x000002A8877F0670> has the same name 'GRUCell' as a built-in Keras object. Consider renaming <class 'keras.layers.recurrent.GRUCell'> to avoid naming conflicts when loading with `tf.keras.models.load_model`. If renaming is not possible, pass the object in the `custom_objects` parameter of the load function.\n"
     ]
    },
    {
     "name": "stdout",
     "output_type": "stream",
     "text": [
      "1972/1972 [==============================] - 463s 235ms/step - loss: 0.0422 - val_loss: 0.0774 - lr: 6.0000e-04\n",
      "***** Epoch 6 *****\n",
      "Memory usage on epoch begin: 39.56GB\n",
      "Epoch 7/15\n",
      "1972/1972 [==============================] - ETA: 0s - loss: 0.0396 - Memory usage on epoch end: 39.56GB\n",
      "1972/1972 [==============================] - 459s 233ms/step - loss: 0.0396 - val_loss: 0.1882 - lr: 6.0000e-04\n",
      "***** Epoch 7 *****\n",
      "Memory usage on epoch begin: 39.56GB\n",
      "Epoch 8/15\n",
      "1972/1972 [==============================] - ETA: 0s - loss: 0.0377\n",
      "Epoch 8: ReduceLROnPlateau reducing learning rate to 0.0003600000170990825.\n",
      " - Memory usage on epoch end: 39.56GB\n",
      "1972/1972 [==============================] - 459s 233ms/step - loss: 0.0377 - val_loss: 0.0798 - lr: 6.0000e-04\n",
      "***** Epoch 8 *****\n",
      "Memory usage on epoch begin: 39.56GB\n",
      "Epoch 9/15\n",
      "1972/1972 [==============================] - ETA: 0s - loss: 0.0340 - Memory usage on epoch end: 39.56GB\n"
     ]
    },
    {
     "name": "stderr",
     "output_type": "stream",
     "text": [
      "WARNING:absl:Found untraced functions such as gru_cell_2_layer_call_fn, gru_cell_2_layer_call_and_return_conditional_losses while saving (showing 2 of 2). These functions will not be directly callable after loading.\n"
     ]
    },
    {
     "name": "stdout",
     "output_type": "stream",
     "text": [
      "INFO:tensorflow:Assets written to: C:\\Users\\Zhafran\\Documents\\Data Science\\BANGKIT - Capstone - Earthquake\\Model Checkpoint\\v5 (S-Wave 1)\\Model Checkpoint Best\\Model_Epoch_9\\assets\n"
     ]
    },
    {
     "name": "stderr",
     "output_type": "stream",
     "text": [
      "INFO:tensorflow:Assets written to: C:\\Users\\Zhafran\\Documents\\Data Science\\BANGKIT - Capstone - Earthquake\\Model Checkpoint\\v5 (S-Wave 1)\\Model Checkpoint Best\\Model_Epoch_9\\assets\n",
      "WARNING:absl:<keras.layers.recurrent.GRUCell object at 0x000002A8877F0670> has the same name 'GRUCell' as a built-in Keras object. Consider renaming <class 'keras.layers.recurrent.GRUCell'> to avoid naming conflicts when loading with `tf.keras.models.load_model`. If renaming is not possible, pass the object in the `custom_objects` parameter of the load function.\n"
     ]
    },
    {
     "name": "stdout",
     "output_type": "stream",
     "text": [
      "1972/1972 [==============================] - 464s 235ms/step - loss: 0.0340 - val_loss: 0.0651 - lr: 3.6000e-04\n",
      "***** Epoch 9 *****\n",
      "Memory usage on epoch begin: 39.57GB\n",
      "Epoch 10/15\n",
      "1972/1972 [==============================] - ETA: 0s - loss: 0.0324 - Memory usage on epoch end: 39.56GB\n",
      "1972/1972 [==============================] - 459s 232ms/step - loss: 0.0324 - val_loss: 0.0775 - lr: 3.6000e-04\n",
      "***** Epoch 10 *****\n",
      "Memory usage on epoch begin: 39.56GB\n",
      "Epoch 11/15\n",
      "1972/1972 [==============================] - ETA: 0s - loss: 0.0311 - Memory usage on epoch end: 39.56GB\n"
     ]
    },
    {
     "name": "stderr",
     "output_type": "stream",
     "text": [
      "WARNING:absl:Found untraced functions such as gru_cell_2_layer_call_fn, gru_cell_2_layer_call_and_return_conditional_losses while saving (showing 2 of 2). These functions will not be directly callable after loading.\n"
     ]
    },
    {
     "name": "stdout",
     "output_type": "stream",
     "text": [
      "INFO:tensorflow:Assets written to: C:\\Users\\Zhafran\\Documents\\Data Science\\BANGKIT - Capstone - Earthquake\\Model Checkpoint\\v5 (S-Wave 1)\\Model Checkpoint Best\\Model_Epoch_11\\assets\n"
     ]
    },
    {
     "name": "stderr",
     "output_type": "stream",
     "text": [
      "INFO:tensorflow:Assets written to: C:\\Users\\Zhafran\\Documents\\Data Science\\BANGKIT - Capstone - Earthquake\\Model Checkpoint\\v5 (S-Wave 1)\\Model Checkpoint Best\\Model_Epoch_11\\assets\n",
      "WARNING:absl:<keras.layers.recurrent.GRUCell object at 0x000002A8877F0670> has the same name 'GRUCell' as a built-in Keras object. Consider renaming <class 'keras.layers.recurrent.GRUCell'> to avoid naming conflicts when loading with `tf.keras.models.load_model`. If renaming is not possible, pass the object in the `custom_objects` parameter of the load function.\n"
     ]
    },
    {
     "name": "stdout",
     "output_type": "stream",
     "text": [
      "1972/1972 [==============================] - 463s 235ms/step - loss: 0.0311 - val_loss: 0.0431 - lr: 3.6000e-04\n",
      "***** Epoch 11 *****\n",
      "Memory usage on epoch begin: 39.57GB\n",
      "Epoch 12/15\n",
      "1972/1972 [==============================] - ETA: 0s - loss: 0.0301 - Memory usage on epoch end: 39.57GB\n"
     ]
    },
    {
     "name": "stderr",
     "output_type": "stream",
     "text": [
      "WARNING:absl:Found untraced functions such as gru_cell_2_layer_call_fn, gru_cell_2_layer_call_and_return_conditional_losses while saving (showing 2 of 2). These functions will not be directly callable after loading.\n"
     ]
    },
    {
     "name": "stdout",
     "output_type": "stream",
     "text": [
      "INFO:tensorflow:Assets written to: C:\\Users\\Zhafran\\Documents\\Data Science\\BANGKIT - Capstone - Earthquake\\Model Checkpoint\\v5 (S-Wave 1)\\Model Checkpoint Best\\Model_Epoch_12\\assets\n"
     ]
    },
    {
     "name": "stderr",
     "output_type": "stream",
     "text": [
      "INFO:tensorflow:Assets written to: C:\\Users\\Zhafran\\Documents\\Data Science\\BANGKIT - Capstone - Earthquake\\Model Checkpoint\\v5 (S-Wave 1)\\Model Checkpoint Best\\Model_Epoch_12\\assets\n",
      "WARNING:absl:<keras.layers.recurrent.GRUCell object at 0x000002A8877F0670> has the same name 'GRUCell' as a built-in Keras object. Consider renaming <class 'keras.layers.recurrent.GRUCell'> to avoid naming conflicts when loading with `tf.keras.models.load_model`. If renaming is not possible, pass the object in the `custom_objects` parameter of the load function.\n"
     ]
    },
    {
     "name": "stdout",
     "output_type": "stream",
     "text": [
      "1972/1972 [==============================] - 463s 235ms/step - loss: 0.0301 - val_loss: 0.0365 - lr: 3.6000e-04\n",
      "***** Epoch 12 *****\n",
      "Memory usage on epoch begin: 39.58GB\n",
      "Epoch 13/15\n",
      "1972/1972 [==============================] - ETA: 0s - loss: 0.0292 - Memory usage on epoch end: 39.58GB\n",
      "1972/1972 [==============================] - 460s 233ms/step - loss: 0.0292 - val_loss: 0.0584 - lr: 3.6000e-04\n",
      "***** Epoch 13 *****\n",
      "Memory usage on epoch begin: 39.58GB\n",
      "Epoch 14/15\n",
      "1972/1972 [==============================] - ETA: 0s - loss: 0.0285 - Memory usage on epoch end: 39.58GB\n"
     ]
    },
    {
     "name": "stderr",
     "output_type": "stream",
     "text": [
      "WARNING:absl:Found untraced functions such as gru_cell_2_layer_call_fn, gru_cell_2_layer_call_and_return_conditional_losses while saving (showing 2 of 2). These functions will not be directly callable after loading.\n"
     ]
    },
    {
     "name": "stdout",
     "output_type": "stream",
     "text": [
      "INFO:tensorflow:Assets written to: C:\\Users\\Zhafran\\Documents\\Data Science\\BANGKIT - Capstone - Earthquake\\Model Checkpoint\\v5 (S-Wave 1)\\Model Checkpoint Best\\Model_Epoch_14\\assets\n"
     ]
    },
    {
     "name": "stderr",
     "output_type": "stream",
     "text": [
      "INFO:tensorflow:Assets written to: C:\\Users\\Zhafran\\Documents\\Data Science\\BANGKIT - Capstone - Earthquake\\Model Checkpoint\\v5 (S-Wave 1)\\Model Checkpoint Best\\Model_Epoch_14\\assets\n",
      "WARNING:absl:<keras.layers.recurrent.GRUCell object at 0x000002A8877F0670> has the same name 'GRUCell' as a built-in Keras object. Consider renaming <class 'keras.layers.recurrent.GRUCell'> to avoid naming conflicts when loading with `tf.keras.models.load_model`. If renaming is not possible, pass the object in the `custom_objects` parameter of the load function.\n"
     ]
    },
    {
     "name": "stdout",
     "output_type": "stream",
     "text": [
      "1972/1972 [==============================] - 468s 237ms/step - loss: 0.0285 - val_loss: 0.0321 - lr: 3.6000e-04\n",
      "***** Epoch 14 *****\n",
      "Memory usage on epoch begin: 39.60GB\n",
      "Epoch 15/15\n",
      "1972/1972 [==============================] - ETA: 0s - loss: 0.0277 - Memory usage on epoch end: 39.62GB\n",
      "1972/1972 [==============================] - 465s 236ms/step - loss: 0.0277 - val_loss: 0.0498 - lr: 3.6000e-04\n"
     ]
    }
   ],
   "source": [
    "import warnings\n",
    "warnings.filterwarnings(\"ignore\")\n",
    "\n",
    "dt_train = DataGenerator(dt_train.x, dt_train.y, 196)\n",
    "dt_val = DataGenerator(dt_val.x, dt_val.y, 196)\n",
    "dt_test = DataGenerator(dt_test.x, dt_test.y, 196)\n",
    "\n",
    "# early_stop = tf.keras.callbacks.EarlyStopping(monitor='val_loss', patience=5)\n",
    "reduce_lr = tf.keras.callbacks.ReduceLROnPlateau(monitor='val_loss', factor=0.6,\n",
    "                                                 patience=2, min_lr=0.0001, verbose=1)\n",
    "checkpoint_filepath_epoch = os.path.join(os.getcwd(), 'Model Checkpoint', 'v5 (S-Wave 1)',\n",
    "                                         'Model Checkpoint Every 2 Epoch')\n",
    "checkpoint_filepath_best = os.path.join(os.getcwd(), 'Model Checkpoint', 'v5 (S-Wave 1)',\n",
    "                                         'Model Checkpoint Best', 'Model_Epoch_{epoch}')\n",
    "model_checkpoint_callback_best = tf.keras.callbacks.ModelCheckpoint(\n",
    "    filepath=checkpoint_filepath_best,\n",
    "    save_weights_only=False,\n",
    "    monitor='val_loss',\n",
    "    mode='min',\n",
    "    save_best_only=True)\n",
    "\n",
    "model_checkpoint_callback_epoch = tf.keras.callbacks.ModelCheckpoint(\n",
    "    filepath=checkpoint_filepath_epoch,\n",
    "    save_weights_only=False,\n",
    "    save_freq=2*dt_train.batch_size)\n",
    "\n",
    "def GetHumanReadable(size,precision=2):\n",
    "    suffixes=['B','KB','MB','GB','TB']\n",
    "    suffixIndex = 0\n",
    "    while size >= 1024 and suffixIndex < 4:\n",
    "        suffixIndex += 1 #increment the index of the suffix\n",
    "        size = size/1024.0 #apply the division\n",
    "        \n",
    "    return \"%.*f%s\"%(precision,size,suffixes[suffixIndex])\n",
    "\n",
    "class MemoryUsageCallback(tf.keras.callbacks.Callback):\n",
    "    '''Monitor memory usage on epoch begin and end.'''\n",
    "\n",
    "    def on_epoch_begin(self,epoch,logs=None):\n",
    "        print('***** Epoch {} *****'.format(epoch))\n",
    "        print('Memory usage on epoch begin: {}'.format(GetHumanReadable(psutil.Process(os.getpid()).memory_info().rss)))\n",
    "\n",
    "    def on_epoch_end(self,epoch,logs=None):\n",
    "        print(' - Memory usage on epoch end: {}'.format(GetHumanReadable(psutil.Process(os.getpid()).memory_info().rss)))\n",
    "    \n",
    "best_hps = tuner.get_best_hyperparameters(num_trials=1)[0]\n",
    "model = tuner.hypermodel.build(best_hps)\n",
    "final_opt = tfa.optimizers.Lookahead(tfa.optimizers.LazyAdam(),\n",
    "                                     sync_period=5, slow_step_size=.5)\n",
    "model.compile(optimizer=final_opt, loss=tf.keras.losses.MeanSquaredError())\n",
    "history = model.fit(dt_train, validation_data=dt_val, epochs=15,\n",
    "                    callbacks=[reduce_lr, MemoryUsageCallback(),\n",
    "                               model_checkpoint_callback_best])"
   ]
  },
  {
   "cell_type": "code",
   "execution_count": null,
   "id": "797f0355",
   "metadata": {},
   "outputs": [],
   "source": []
  },
  {
   "cell_type": "code",
   "execution_count": 33,
   "id": "5103791e",
   "metadata": {},
   "outputs": [
    {
     "name": "stderr",
     "output_type": "stream",
     "text": [
      "WARNING:absl:Found untraced functions such as gru_cell_6_layer_call_fn, gru_cell_6_layer_call_and_return_conditional_losses while saving (showing 2 of 2). These functions will not be directly callable after loading.\n"
     ]
    },
    {
     "name": "stdout",
     "output_type": "stream",
     "text": [
      "INFO:tensorflow:Assets written to: C:\\Users\\Zhafran\\Documents\\Data Science\\BANGKIT - Capstone - Earthquake\\Model Checkpoint\\v5 (S-Wave 1)\\Best Model\\assets\n"
     ]
    },
    {
     "name": "stderr",
     "output_type": "stream",
     "text": [
      "INFO:tensorflow:Assets written to: C:\\Users\\Zhafran\\Documents\\Data Science\\BANGKIT - Capstone - Earthquake\\Model Checkpoint\\v5 (S-Wave 1)\\Best Model\\assets\n",
      "WARNING:absl:<keras.layers.recurrent.GRUCell object at 0x000002BDDBC54A00> has the same name 'GRUCell' as a built-in Keras object. Consider renaming <class 'keras.layers.recurrent.GRUCell'> to avoid naming conflicts when loading with `tf.keras.models.load_model`. If renaming is not possible, pass the object in the `custom_objects` parameter of the load function.\n"
     ]
    }
   ],
   "source": [
    "path = os.path.join(os.getcwd(), 'Model Checkpoint', 'v5 (S-Wave 1)', 'Best Model')\n",
    "best_model.save(path)"
   ]
  },
  {
   "cell_type": "code",
   "execution_count": 32,
   "id": "4692e9c1",
   "metadata": {
    "scrolled": true
   },
   "outputs": [
    {
     "name": "stdout",
     "output_type": "stream",
     "text": [
      "Model: \"sequential_2\"\n",
      "_________________________________________________________________\n",
      " Layer (type)                Output Shape              Param #   \n",
      "=================================================================\n",
      " conv1d_6 (Conv1D)           (None, 6000, 32)          128       \n",
      "                                                                 \n",
      " batch_normalization_6 (Batc  (None, 6000, 32)         128       \n",
      " hNormalization)                                                 \n",
      "                                                                 \n",
      " activation_6 (Activation)   (None, 6000, 32)          0         \n",
      "                                                                 \n",
      " max_pooling1d_5 (MaxPooling  (None, 3000, 32)         0         \n",
      " 1D)                                                             \n",
      "                                                                 \n",
      " conv1d_7 (Conv1D)           (None, 3000, 256)         8448      \n",
      "                                                                 \n",
      " batch_normalization_7 (Batc  (None, 3000, 256)        1024      \n",
      " hNormalization)                                                 \n",
      "                                                                 \n",
      " activation_7 (Activation)   (None, 3000, 256)         0         \n",
      "                                                                 \n",
      " max_pooling1d_6 (MaxPooling  (None, 1500, 256)        0         \n",
      " 1D)                                                             \n",
      "                                                                 \n",
      " conv1d_8 (Conv1D)           (None, 1500, 32)          8224      \n",
      "                                                                 \n",
      " batch_normalization_8 (Batc  (None, 1500, 32)         128       \n",
      " hNormalization)                                                 \n",
      "                                                                 \n",
      " activation_8 (Activation)   (None, 1500, 32)          0         \n",
      "                                                                 \n",
      " max_pooling1d_7 (MaxPooling  (None, 750, 32)          0         \n",
      " 1D)                                                             \n",
      "                                                                 \n",
      " conv1d_9 (Conv1D)           (None, 750, 64)           2112      \n",
      "                                                                 \n",
      " batch_normalization_9 (Batc  (None, 750, 64)          256       \n",
      " hNormalization)                                                 \n",
      "                                                                 \n",
      " activation_9 (Activation)   (None, 750, 64)           0         \n",
      "                                                                 \n",
      " max_pooling1d_8 (MaxPooling  (None, 375, 64)          0         \n",
      " 1D)                                                             \n",
      "                                                                 \n",
      " conv1d_10 (Conv1D)          (None, 369, 256)          114944    \n",
      "                                                                 \n",
      " batch_normalization_10 (Bat  (None, 369, 256)         1024      \n",
      " chNormalization)                                                \n",
      "                                                                 \n",
      " activation_10 (Activation)  (None, 369, 256)          0         \n",
      "                                                                 \n",
      " max_pooling1d_9 (MaxPooling  (None, 184, 256)         0         \n",
      " 1D)                                                             \n",
      "                                                                 \n",
      " gru_2 (GRU)                 (None, 184, 64)           61824     \n",
      "                                                                 \n",
      " flatten_2 (Flatten)         (None, 11776)             0         \n",
      "                                                                 \n",
      " dense_6 (Dense)             (None, 32)                376864    \n",
      "                                                                 \n",
      " dropout_4 (Dropout)         (None, 32)                0         \n",
      "                                                                 \n",
      " dense_7 (Dense)             (None, 256)               8448      \n",
      "                                                                 \n",
      " dropout_5 (Dropout)         (None, 256)               0         \n",
      "                                                                 \n",
      " dense_8 (Dense)             (None, 2)                 514       \n",
      "                                                                 \n",
      "=================================================================\n",
      "Total params: 584,066\n",
      "Trainable params: 582,786\n",
      "Non-trainable params: 1,280\n",
      "_________________________________________________________________\n"
     ]
    }
   ],
   "source": [
    "best_model = tf.keras.models.load_model(os.path.join(os.getcwd(), 'Model Checkpoint', 'v5 (S-Wave 1)',\n",
    "             'Model Checkpoint Best', 'Model_Epoch_14'))\n",
    "best_model.summary()"
   ]
  },
  {
   "cell_type": "code",
   "execution_count": 21,
   "id": "49935ad1",
   "metadata": {},
   "outputs": [
    {
     "data": {
      "image/png": "[encoded data removed]",
      "text/plain": [
       "<Figure size 432x288 with 1 Axes>"
      ]
     },
     "metadata": {
      "needs_background": "light"
     },
     "output_type": "display_data"
    }
   ],
   "source": [
    "# summarize history for precision\n",
    "# plt.plot(history.history['r_square'])\n",
    "# plt.plot(history.history['val_r_square'])\n",
    "# plt.title('model f1_score')\n",
    "# plt.ylabel('f1_score')\n",
    "# plt.xlabel('epoch')\n",
    "# plt.legend(['train', 'test'], loc='upper left')\n",
    "# plt.show()\n",
    "\n",
    "# summarize history for loss\n",
    "plt.plot(history.history['loss'][:])\n",
    "plt.plot(history.history['val_loss'][:])\n",
    "plt.title('model loss')\n",
    "plt.ylabel('loss')\n",
    "plt.xlabel('epoch')\n",
    "plt.legend(['train', 'test'], loc='upper left')\n",
    "plt.show()"
   ]
  },
  {
   "cell_type": "code",
   "execution_count": null,
   "id": "c4186559",
   "metadata": {},
   "outputs": [],
   "source": []
  },
  {
   "cell_type": "code",
   "execution_count": 34,
   "id": "938fa007",
   "metadata": {},
   "outputs": [],
   "source": [
    "# X_true = np.array(np.concatenate([x for x, y in dt_test], axis=0))\n",
    "# y_true = np.array(np.concatenate([y for x, y in dt_test], axis=0))\n",
    "y_pred = np.array(best_model.predict(dt_test))"
   ]
  },
  {
   "cell_type": "code",
   "execution_count": 35,
   "id": "9eb3d84f",
   "metadata": {},
   "outputs": [
    {
     "data": {
      "text/plain": [
       "array([[7.015294  , 0.67807186],\n",
       "       [7.7041707 , 1.2876271 ],\n",
       "       [6.1826096 , 0.46498358],\n",
       "       [6.8059015 , 0.77406335],\n",
       "       [6.2615256 , 0.5156933 ]], dtype=float32)"
      ]
     },
     "execution_count": 35,
     "metadata": {},
     "output_type": "execute_result"
    }
   ],
   "source": [
    "y_pred[:5]"
   ]
  },
  {
   "cell_type": "code",
   "execution_count": 36,
   "id": "71f6096c",
   "metadata": {},
   "outputs": [
    {
     "data": {
      "text/plain": [
       "array([[6.67076632, 0.12221763],\n",
       "       [7.67934389, 1.13140211],\n",
       "       [6.13122649, 0.64185389],\n",
       "       [6.81783057, 0.99325177],\n",
       "       [6.11146734, 0.63127178]])"
      ]
     },
     "execution_count": 36,
     "metadata": {},
     "output_type": "execute_result"
    }
   ],
   "source": [
    "y_true[:5]"
   ]
  },
  {
   "cell_type": "code",
   "execution_count": 37,
   "id": "03c89886",
   "metadata": {},
   "outputs": [
    {
     "name": "stdout",
     "output_type": "stream",
     "text": [
      "\n",
      "Adjusted-RSquared S-Wave   : 82.98 %\n",
      "Adjusted-RSquared Magnitude: 75.93 %\n",
      "\n",
      "95.3% Confident Interval S-Wave: -5.03 <> 4.82 (Second)\n",
      "95.3% Confident Interval Magnitude: -0.98 <> 0.9 (Schala Richter)\n"
     ]
    }
   ],
   "source": [
    "def error_benchmark(y_true, y_pred):\n",
    "    true_s = np.exp(y_true[:, 0])/100\n",
    "    true_mag = np.exp(y_true[:, 1])-1\n",
    "    pred_s = np.exp(y_pred[:, 0])/100\n",
    "    pred_mag = np.exp(y_pred[:, 1])-1\n",
    "    \n",
    "    error_s = true_s-pred_s\n",
    "    error_mag = true_mag-pred_mag\n",
    "    \n",
    "    fig, axs = plt.subplots(ncols=2, figsize=(12, 5))\n",
    "    sns.histplot(error_s, kde=True, ax=axs[0])\n",
    "    sns.histplot(error_mag, kde=True, ax=axs[1])\n",
    "\n",
    "    legend_properties = {'weight':'bold'}    \n",
    "    plt.tight_layout()\n",
    "    ymin, ymax = axs[1].get_ylim()\n",
    "    \n",
    "    axs[0].set_xlabel('Second')\n",
    "    axs[0].set_title('S-Wave Error (By Second)')\n",
    "    \n",
    "    axs[1].set_xlabel('Magnitude')\n",
    "    axs[1].set_title('Magnitude Error (By Magnitude)')\n",
    "    \n",
    "    fig.tight_layout()\n",
    "    \n",
    "metric = tfa.metrics.RSquare(num_regressors=6000)\n",
    "metric.update_state(np.exp(y_true[:, 0])/100, np.exp(y_pred[:, 0])/100)\n",
    "result_s = round(metric.result().numpy()*100, 2)\n",
    "\n",
    "metric = tfa.metrics.RSquare(num_regressors=6000)\n",
    "metric.update_state(np.exp(y_true[:, 1])-1, np.exp(y_pred[:, 1])-1)\n",
    "result_mag = round(metric.result().numpy()*100, 2)\n",
    "\n",
    "print(f'\\nAdjusted-RSquared S-Wave   : {result_s} %')\n",
    "print(f'Adjusted-RSquared Magnitude: {result_mag} %\\n')\n",
    "\n",
    "true_s = np.exp(y_true[:, 0])/100\n",
    "true_mag = np.exp(y_true[:, 1])-1\n",
    "pred_s = np.exp(y_pred[:, 0])/100\n",
    "pred_mag = np.exp(y_pred[:, 1])-1\n",
    "\n",
    "error_s = true_s-pred_s\n",
    "error_mag = true_mag-pred_mag\n",
    "\n",
    "mean_error_s = np.mean(error_s)\n",
    "std_error_s = np.std(error_s)\n",
    "\n",
    "mean_error_mag = np.mean(error_mag)\n",
    "std_error_mag = np.std(error_mag)\n",
    "\n",
    "print(f'95.3% Confident Interval S-Wave: {round(mean_error_s-2*std_error_s, 2)} <> {round(mean_error_s+2*std_error_s, 2)} (Second)')\n",
    "print(f'95.3% Confident Interval Magnitude: {round(mean_error_mag-2*std_error_mag, 2)} <> {round(mean_error_mag+2*std_error_mag, 2)} (Schala Richter)')"
   ]
  },
  {
   "cell_type": "code",
   "execution_count": 38,
   "id": "68990e0a",
   "metadata": {},
   "outputs": [
    {
     "data": {
      "image/png": "[encoded data removed]",
      "text/plain": [
       "<Figure size 864x360 with 2 Axes>"
      ]
     },
     "metadata": {
      "needs_background": "light"
     },
     "output_type": "display_data"
    }
   ],
   "source": [
    "error_benchmark(y_true, y_pred)"
   ]
  },
  {
   "cell_type": "code",
   "execution_count": 39,
   "id": "eef04313",
   "metadata": {},
   "outputs": [],
   "source": [
    "def visualize_S_Mag(X_true, y_true, y_pred):\n",
    "    true_s = np.exp(y_true[:, 0])/100\n",
    "    pred_s = np.exp(y_pred[:, 0])/100\n",
    "    \n",
    "    idx_ = np.random.randint(0, len(true_s))\n",
    "    \n",
    "    fig = plt.figure(figsize=(15, 10))\n",
    "    ax = fig.add_subplot(311)         \n",
    "\n",
    "    plt.plot(np.linspace(0, 60, 6000), np.mean(X_true[idx_], axis=-1), 'k')\n",
    "    legend_properties = {'weight':'bold'}    \n",
    "    plt.tight_layout()\n",
    "    ymin, ymax = ax.get_ylim()\n",
    "\n",
    "    s_true = plt.vlines(true_s[idx_], ymin, ymax, color='b', linewidth=2, label='S-Arrival')\n",
    "    s_pred = plt.vlines(pred_s[idx_], ymin, ymax, color='r',\n",
    "                             linewidth=2, label='S-Predict-Arrival')\n",
    "\n",
    "    plt.legend(handles=[s_true, s_pred],\n",
    "               loc = 'upper right', borderaxespad=0., prop=legend_properties)        \n",
    "    plt.ylabel('Mean of All Channel', fontsize=12) "
   ]
  },
  {
   "cell_type": "code",
   "execution_count": 59,
   "id": "ddf65778",
   "metadata": {},
   "outputs": [
    {
     "data": {
      "image/png": "[encoded data removed]",
      "text/plain": [
       "<Figure size 1080x720 with 1 Axes>"
      ]
     },
     "metadata": {
      "needs_background": "light"
     },
     "output_type": "display_data"
    }
   ],
   "source": [
    "visualize_S_Mag(X_true, y_true, y_pred)"
   ]
  },
  {
   "cell_type": "code",
   "execution_count": 16,
   "id": "a8bbc4a7",
   "metadata": {},
   "outputs": [],
   "source": [
    "# %%time\n",
    "# # Train\n",
    "# tf_data_path_train = os.path.join(os.getcwd(), 'Prefetch Dataset', 'v2 (S-Mag)', 'Train')\n",
    "# with open(tf_data_path_train + '/element_spec', 'rb') as in_:\n",
    "#     es = pickle.load(in_)\n",
    "\n",
    "# dt_train = tf.data.experimental.load(\n",
    "#     tf_data_path_train, es, compression='GZIP'\n",
    "# )\n",
    "\n",
    "# # Test\n",
    "# tf_data_path_test = os.path.join(os.getcwd(), 'Prefetch Dataset', 'v2 (S-Mag)',  'Test')\n",
    "# with open(tf_data_path_test + '/element_spec', 'rb') as in_:\n",
    "#     es = pickle.load(in_)\n",
    "\n",
    "# dt_test = tf.data.experimental.load(\n",
    "#     tf_data_path_test, es, compression='GZIP'\n",
    "# )\n",
    "\n",
    "# # Val\n",
    "# tf_data_path_val = os.path.join(os.getcwd(), 'Prefetch Dataset', 'v2 (S-Mag)', 'Val')\n",
    "# with open(tf_data_path_val + '/element_spec', 'rb') as in_:\n",
    "#     es = pickle.load(in_)\n",
    "\n",
    "# dt_val = tf.data.experimental.load(\n",
    "#     tf_data_path_val, es, compression='GZIP'\n",
    "# )"
   ]
  },
  {
   "cell_type": "code",
   "execution_count": null,
   "id": "a644056c",
   "metadata": {},
   "outputs": [],
   "source": []
  },
  {
   "cell_type": "code",
   "execution_count": null,
   "id": "e3189c84",
   "metadata": {},
   "outputs": [],
   "source": []
  },
  {
   "cell_type": "code",
   "execution_count": null,
   "id": "bd9e1f19",
   "metadata": {},
   "outputs": [],
   "source": []
  },
  {
   "cell_type": "code",
   "execution_count": null,
   "id": "ab9ff62b",
   "metadata": {},
   "outputs": [],
   "source": []
  },
  {
   "cell_type": "code",
   "execution_count": null,
   "id": "830ab9b1",
   "metadata": {},
   "outputs": [],
   "source": []
  },
  {
   "cell_type": "code",
   "execution_count": 17,
   "id": "ec7af68a",
   "metadata": {},
   "outputs": [
    {
     "ename": "NameError",
     "evalue": "name 'X' is not defined",
     "output_type": "error",
     "traceback": [
      "\u001b[1;31m---------------------------------------------------------------------------\u001b[0m",
      "\u001b[1;31mNameError\u001b[0m                                 Traceback (most recent call last)",
      "\u001b[1;32m~\\AppData\\Local\\Temp/ipykernel_20532/1502529795.py\u001b[0m in \u001b[0;36m<module>\u001b[1;34m\u001b[0m\n\u001b[0;32m     10\u001b[0m     \u001b[1;32mreturn\u001b[0m \u001b[0mnp\u001b[0m\u001b[1;33m.\u001b[0m\u001b[0marray\u001b[0m\u001b[1;33m(\u001b[0m\u001b[0mdata_label\u001b[0m\u001b[1;33m.\u001b[0m\u001b[0mvalues\u001b[0m\u001b[1;33m)\u001b[0m\u001b[1;33m\u001b[0m\u001b[1;33m\u001b[0m\u001b[0m\n\u001b[0;32m     11\u001b[0m \u001b[1;33m\u001b[0m\u001b[0m\n\u001b[1;32m---> 12\u001b[1;33m \u001b[0mfeature\u001b[0m \u001b[1;33m=\u001b[0m \u001b[0mcreate_feature\u001b[0m\u001b[1;33m(\u001b[0m\u001b[0mX\u001b[0m\u001b[1;33m[\u001b[0m\u001b[1;33m:\u001b[0m\u001b[1;36m100\u001b[0m\u001b[1;33m]\u001b[0m\u001b[1;33m)\u001b[0m\u001b[1;33m\u001b[0m\u001b[1;33m\u001b[0m\u001b[0m\n\u001b[0m\u001b[0;32m     13\u001b[0m \u001b[0mlabel\u001b[0m \u001b[1;33m=\u001b[0m \u001b[0mcreate_label\u001b[0m\u001b[1;33m(\u001b[0m\u001b[0my\u001b[0m\u001b[1;33m[\u001b[0m\u001b[1;33m:\u001b[0m\u001b[1;36m100\u001b[0m\u001b[1;33m]\u001b[0m\u001b[1;33m)\u001b[0m\u001b[1;33m\u001b[0m\u001b[1;33m\u001b[0m\u001b[0m\n",
      "\u001b[1;31mNameError\u001b[0m: name 'X' is not defined"
     ]
    }
   ],
   "source": [
    "def create_feature(data_feature):\n",
    "    rs = []\n",
    "    for t in tqdm(data_feature.values):\n",
    "        data_l = get_waveform(t)\n",
    "        data_denoise = DenoiseWavelet(data_l, type='BayesShrink')\n",
    "        rs.append(data_denoise)\n",
    "    return np.array(rs)\n",
    "\n",
    "def create_label(data_label):\n",
    "    return np.array(data_label.values)\n",
    "    \n",
    "feature = create_feature(X[:100])\n",
    "label = create_label(y[:100])"
   ]
  },
  {
   "cell_type": "code",
   "execution_count": null,
   "id": "f3d5338a",
   "metadata": {},
   "outputs": [],
   "source": [
    "feature.shape"
   ]
  },
  {
   "cell_type": "code",
   "execution_count": null,
   "id": "1ea330fe",
   "metadata": {},
   "outputs": [],
   "source": [
    "len(feature)"
   ]
  },
  {
   "cell_type": "code",
   "execution_count": null,
   "id": "47859cd9",
   "metadata": {},
   "outputs": [],
   "source": [
    "model"
   ]
  },
  {
   "cell_type": "code",
   "execution_count": 151,
   "id": "7490f180",
   "metadata": {},
   "outputs": [],
   "source": [
    "import keras\n",
    "\n",
    "class DataGenerator(tf.keras.utils.Sequence):\n",
    "    'Generates data for Keras'\n",
    "    def __init__(self, list_IDs, labels, batch_size=32, dim=(6000), n_channels=3,\n",
    "                 n_classes=2, shuffle=True):\n",
    "        'Initialization'\n",
    "        self.dim = dim\n",
    "        self.batch_size = batch_size\n",
    "        self.labels = labels\n",
    "        self.list_IDs = list_IDs\n",
    "        self.n_channels = n_channels\n",
    "        self.n_classes = n_classes\n",
    "        self.shuffle = shuffle\n",
    "        self.on_epoch_end()\n",
    "\n",
    "    def __len__(self):\n",
    "        'Denotes the number of batches per epoch'\n",
    "        return int(np.floor(len(self.list_IDs) / self.batch_size))\n",
    "\n",
    "    def __getitem__(self, index):\n",
    "        'Generate one batch of data'\n",
    "        # Generate indexes of the batch\n",
    "        indexes = self.indexes[index*self.batch_size:(index+1)*self.batch_size]\n",
    "\n",
    "        # Find list of IDs\n",
    "        list_IDs_temp = [self.list_IDs[k] for k in indexes]\n",
    "\n",
    "        # Generate data\n",
    "        X, y = self.__data_generation(list_IDs_temp)\n",
    "\n",
    "        return X, y\n",
    "\n",
    "    def on_epoch_end(self):\n",
    "        'Updates indexes after each epoch'\n",
    "        self.indexes = np.arange(len(self.list_IDs))\n",
    "        if self.shuffle == True:\n",
    "            np.random.shuffle(self.indexes)\n",
    "\n",
    "    def __data_generation(self, list_IDs_temp):\n",
    "        'Generates data containing batch_size samples' # X : (n_samples, *dim, n_channels)\n",
    "        # Initialization\n",
    "        X = np.empty((self.batch_size, *self.dim, self.n_channels))\n",
    "        y = np.empty((self.batch_size), dtype=int)\n",
    "\n",
    "        # Generate data\n",
    "        for i, ID in enumerate(list_IDs_temp):\n",
    "            # Store sample\n",
    "            X[i,] = np.load('data/' + ID + '.npy')\n",
    "\n",
    "            # Store class\n",
    "            y[i] = self.labels[ID]\n",
    "\n",
    "        return X, keras.utils.to_categorical(y, num_classes=self.n_classes)"
   ]
  },
  {
   "cell_type": "code",
   "execution_count": 168,
   "id": "21fb1160",
   "metadata": {},
   "outputs": [
    {
     "name": "stdout",
     "output_type": "stream",
     "text": [
      "Wall time: 994 µs\n"
     ]
    }
   ],
   "source": [
    "%%time\n",
    "params = {'dim': (6000),\n",
    "          'batch_size': 32,\n",
    "          'n_classes': 2,\n",
    "          'n_channels': 3,\n",
    "          'shuffle': True}\n",
    "\n",
    "gen = DataGenerator(feature, label, **params)"
   ]
  },
  {
   "cell_type": "code",
   "execution_count": 209,
   "id": "8c76a321",
   "metadata": {},
   "outputs": [],
   "source": []
  },
  {
   "cell_type": "code",
   "execution_count": null,
   "id": "f7331b03",
   "metadata": {},
   "outputs": [],
   "source": []
  }
 ],
 "metadata": {
  "kernelspec": {
   "display_name": "Python 3 (ipykernel)",
   "language": "python",
   "name": "python3"
  },
  "language_info": {
   "codemirror_mode": {
    "name": "ipython",
    "version": 3
   },
   "file_extension": ".py",
   "mimetype": "text/x-python",
   "name": "python",
   "nbconvert_exporter": "python",
   "pygments_lexer": "ipython3",
   "version": "3.8.12"
  }
 },
 "nbformat": 4,
 "nbformat_minor": 5
}
