{
 "cells": [
  {
   "cell_type": "code",
   "execution_count": 1,
   "id": "d22f33d8",
   "metadata": {},
   "outputs": [],
   "source": [
    "import numpy as np\n",
    "from numpy.random import default_rng"
   ]
  },
  {
   "cell_type": "code",
   "execution_count": 60,
   "id": "186a6fd9",
   "metadata": {},
   "outputs": [],
   "source": [
    "X = np.random.random(size=(501, 6000, 3))\n",
    "y = np.random.random(size=(501, 2))"
   ]
  },
  {
   "cell_type": "code",
   "execution_count": 88,
   "id": "e0b8934f",
   "metadata": {},
   "outputs": [
    {
     "data": {
      "text/plain": [
       "(501,)"
      ]
     },
     "execution_count": 88,
     "metadata": {},
     "output_type": "execute_result"
    }
   ],
   "source": [
    "rng = default_rng(seed=42)\n",
    "numbers = rng.choice(X.shape[0], size=X.shape[0], replace=False)\n",
    "\n",
    "numbers.shape"
   ]
  },
  {
   "cell_type": "code",
   "execution_count": 174,
   "id": "a773d6c2",
   "metadata": {},
   "outputs": [],
   "source": [
    "def dataset_split(X, y, train_size=.7, val_size=.2, test_size=.15, seed=None):\n",
    "    if round((train_size+val_size+test_size), 2)!=1.00:\n",
    "        raise Exception(f'Train Size + Val Size + Test Size {train_size+val_size+test_size} != 0')\n",
    "    \n",
    "    if seed==None:\n",
    "        rng = default_rng()\n",
    "    else:\n",
    "        rng = default_rng(seed=seed)\n",
    "    \n",
    "    idx_ = rng.choice(X.shape[0], size=X.shape[0],\n",
    "                      replace=False)\n",
    "    idx_train_ = idx_[:round(X.shape[0]*train_size)]\n",
    "    idx_val_ = idx_[round(X.shape[0]*train_size):round(X.shape[0]*val_size)+round(X.shape[0]*train_size)]\n",
    "    idx_test_ = idx_[round(X.shape[0]*val_size)+round(X.shape[0]*train_size):]\n",
    "    \n",
    "    X_train, y_train = X[idx_train_], y[idx_train_]\n",
    "    X_val, y_val = X[idx_val_], y[idx_val_]\n",
    "    X_test, y_test = X[idx_test_], y[idx_test_]\n",
    "    \n",
    "    return (X_train, y_train), (X_val, y_val), (X_test, y_test)"
   ]
  },
  {
   "cell_type": "code",
   "execution_count": 179,
   "id": "6f39ac60",
   "metadata": {},
   "outputs": [],
   "source": [
    "a, b, c = dataset_split(X, y, train_size=0.6,\n",
    "                        val_size=0.3, test_size=0.1)"
   ]
  },
  {
   "cell_type": "code",
   "execution_count": 176,
   "id": "1aa75b1b",
   "metadata": {},
   "outputs": [
    {
     "data": {
      "text/plain": [
       "1.05"
      ]
     },
     "execution_count": 176,
     "metadata": {},
     "output_type": "execute_result"
    }
   ],
   "source": [
    "round((0.7+0.2+0.15), 2)"
   ]
  },
  {
   "cell_type": "code",
   "execution_count": 147,
   "id": "8a3a7bd9",
   "metadata": {},
   "outputs": [
    {
     "data": {
      "text/plain": [
       "True"
      ]
     },
     "execution_count": 147,
     "metadata": {},
     "output_type": "execute_result"
    }
   ],
   "source": [
    "np.sum(a)+np.sum(b)+np.sum(c)==np.sum([i for i in range(X.shape[0])])"
   ]
  },
  {
   "cell_type": "code",
   "execution_count": 105,
   "id": "453019e7",
   "metadata": {},
   "outputs": [
    {
     "data": {
      "text/plain": [
       "(75,)"
      ]
     },
     "execution_count": 105,
     "metadata": {},
     "output_type": "execute_result"
    }
   ],
   "source": [
    "c.shape"
   ]
  },
  {
   "cell_type": "code",
   "execution_count": 189,
   "id": "e33ecd98",
   "metadata": {},
   "outputs": [
    {
     "data": {
      "text/plain": [
       "141.2537544622754"
      ]
     },
     "execution_count": 189,
     "metadata": {},
     "output_type": "execute_result"
    }
   ],
   "source": [
    "m = lambda x: 10**(x*0.43)\n",
    "m(5)"
   ]
  },
  {
   "cell_type": "code",
   "execution_count": null,
   "id": "983c8d0f",
   "metadata": {},
   "outputs": [],
   "source": []
  }
 ],
 "metadata": {
  "kernelspec": {
   "display_name": "Python 3 (ipykernel)",
   "language": "python",
   "name": "python3"
  },
  "language_info": {
   "codemirror_mode": {
    "name": "ipython",
    "version": 3
   },
   "file_extension": ".py",
   "mimetype": "text/x-python",
   "name": "python",
   "nbconvert_exporter": "python",
   "pygments_lexer": "ipython3",
   "version": "3.8.12"
  }
 },
 "nbformat": 4,
 "nbformat_minor": 5
}
